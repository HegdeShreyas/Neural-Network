{
 "cells": [
  {
   "cell_type": "code",
   "execution_count": 1,
   "metadata": {
    "id": "i-_FihnXhADb"
   },
   "outputs": [],
   "source": [
    "# Importing the necessary packages\n",
    "import pandas as pd\n",
    "import numpy as np\n",
    "import scikeras\n",
    "\n",
    "import keras\n",
    "\n",
    "from sklearn.preprocessing import StandardScaler, MinMaxScaler\n",
    "import seaborn as sns\n",
    "from sklearn.model_selection import GridSearchCV, KFold, StratifiedKFold, cross_val_score, \\\n",
    "                                    train_test_split, RandomizedSearchCV\n",
    "import matplotlib.pyplot as plt\n",
    "from keras.models import Sequential\n",
    "from keras.layers import Dense\n",
    "\n",
    "import warnings\n",
    "warnings.filterwarnings('ignore')\n",
    "\n"
   ]
  },
  {
   "cell_type": "code",
   "execution_count": 2,
   "metadata": {
    "id": "nUM62T5lVC2m"
   },
   "outputs": [],
   "source": [
    "import kerastuner\n",
    "from tensorflow import keras\n",
    "from kerastuner.tuners import RandomSearch\n",
    "from tensorflow import keras\n",
    "from keras.models import Sequential\n",
    "from keras.layers import Dense\n",
    "from keras.layers import Dropout\n",
    "from scikeras.wrappers import KerasClassifier, KerasRegressor\n",
    "from keras.optimizers import Adam"
   ]
  },
  {
   "cell_type": "code",
   "execution_count": 3,
   "metadata": {
    "id": "DIioKQTzcXNn"
   },
   "outputs": [],
   "source": [
    "import tensorflow as tf\n",
    "from tensorflow import keras\n",
    "from keras import layers"
   ]
  },
  {
   "cell_type": "code",
   "execution_count": 4,
   "metadata": {
    "id": "vWIZ80XAhADl"
   },
   "outputs": [],
   "source": [
    "# load Gas Turbines dataset\n",
    "gas = pd.read_csv(r\"C:\\Users\\hegde\\Desktop\\DS Ass Qst\\gas_turbines.csv\")"
   ]
  },
  {
   "cell_type": "code",
   "execution_count": 5,
   "metadata": {
    "colab": {
     "base_uri": "https://localhost:8080/",
     "height": 423
    },
    "id": "0q-anT_UGgVe",
    "outputId": "4f9a1699-c919-43ee-a7e8-17f742f42a61"
   },
   "outputs": [
    {
     "data": {
      "text/html": [
       "<div>\n",
       "<style scoped>\n",
       "    .dataframe tbody tr th:only-of-type {\n",
       "        vertical-align: middle;\n",
       "    }\n",
       "\n",
       "    .dataframe tbody tr th {\n",
       "        vertical-align: top;\n",
       "    }\n",
       "\n",
       "    .dataframe thead th {\n",
       "        text-align: right;\n",
       "    }\n",
       "</style>\n",
       "<table border=\"1\" class=\"dataframe\">\n",
       "  <thead>\n",
       "    <tr style=\"text-align: right;\">\n",
       "      <th></th>\n",
       "      <th>AT</th>\n",
       "      <th>AP</th>\n",
       "      <th>AH</th>\n",
       "      <th>AFDP</th>\n",
       "      <th>GTEP</th>\n",
       "      <th>TIT</th>\n",
       "      <th>TAT</th>\n",
       "      <th>TEY</th>\n",
       "      <th>CDP</th>\n",
       "      <th>CO</th>\n",
       "      <th>NOX</th>\n",
       "    </tr>\n",
       "  </thead>\n",
       "  <tbody>\n",
       "    <tr>\n",
       "      <th>0</th>\n",
       "      <td>6.8594</td>\n",
       "      <td>1007.9</td>\n",
       "      <td>96.799</td>\n",
       "      <td>3.5000</td>\n",
       "      <td>19.663</td>\n",
       "      <td>1059.2</td>\n",
       "      <td>550.00</td>\n",
       "      <td>114.70</td>\n",
       "      <td>10.605</td>\n",
       "      <td>3.1547</td>\n",
       "      <td>82.722</td>\n",
       "    </tr>\n",
       "    <tr>\n",
       "      <th>1</th>\n",
       "      <td>6.7850</td>\n",
       "      <td>1008.4</td>\n",
       "      <td>97.118</td>\n",
       "      <td>3.4998</td>\n",
       "      <td>19.728</td>\n",
       "      <td>1059.3</td>\n",
       "      <td>550.00</td>\n",
       "      <td>114.72</td>\n",
       "      <td>10.598</td>\n",
       "      <td>3.2363</td>\n",
       "      <td>82.776</td>\n",
       "    </tr>\n",
       "    <tr>\n",
       "      <th>2</th>\n",
       "      <td>6.8977</td>\n",
       "      <td>1008.8</td>\n",
       "      <td>95.939</td>\n",
       "      <td>3.4824</td>\n",
       "      <td>19.779</td>\n",
       "      <td>1059.4</td>\n",
       "      <td>549.87</td>\n",
       "      <td>114.71</td>\n",
       "      <td>10.601</td>\n",
       "      <td>3.2012</td>\n",
       "      <td>82.468</td>\n",
       "    </tr>\n",
       "    <tr>\n",
       "      <th>3</th>\n",
       "      <td>7.0569</td>\n",
       "      <td>1009.2</td>\n",
       "      <td>95.249</td>\n",
       "      <td>3.4805</td>\n",
       "      <td>19.792</td>\n",
       "      <td>1059.6</td>\n",
       "      <td>549.99</td>\n",
       "      <td>114.72</td>\n",
       "      <td>10.606</td>\n",
       "      <td>3.1923</td>\n",
       "      <td>82.670</td>\n",
       "    </tr>\n",
       "    <tr>\n",
       "      <th>4</th>\n",
       "      <td>7.3978</td>\n",
       "      <td>1009.7</td>\n",
       "      <td>95.150</td>\n",
       "      <td>3.4976</td>\n",
       "      <td>19.765</td>\n",
       "      <td>1059.7</td>\n",
       "      <td>549.98</td>\n",
       "      <td>114.72</td>\n",
       "      <td>10.612</td>\n",
       "      <td>3.2484</td>\n",
       "      <td>82.311</td>\n",
       "    </tr>\n",
       "    <tr>\n",
       "      <th>...</th>\n",
       "      <td>...</td>\n",
       "      <td>...</td>\n",
       "      <td>...</td>\n",
       "      <td>...</td>\n",
       "      <td>...</td>\n",
       "      <td>...</td>\n",
       "      <td>...</td>\n",
       "      <td>...</td>\n",
       "      <td>...</td>\n",
       "      <td>...</td>\n",
       "      <td>...</td>\n",
       "    </tr>\n",
       "    <tr>\n",
       "      <th>15034</th>\n",
       "      <td>9.0301</td>\n",
       "      <td>1005.6</td>\n",
       "      <td>98.460</td>\n",
       "      <td>3.5421</td>\n",
       "      <td>19.164</td>\n",
       "      <td>1049.7</td>\n",
       "      <td>546.21</td>\n",
       "      <td>111.61</td>\n",
       "      <td>10.400</td>\n",
       "      <td>4.5186</td>\n",
       "      <td>79.559</td>\n",
       "    </tr>\n",
       "    <tr>\n",
       "      <th>15035</th>\n",
       "      <td>7.8879</td>\n",
       "      <td>1005.9</td>\n",
       "      <td>99.093</td>\n",
       "      <td>3.5059</td>\n",
       "      <td>19.414</td>\n",
       "      <td>1046.3</td>\n",
       "      <td>543.22</td>\n",
       "      <td>111.78</td>\n",
       "      <td>10.433</td>\n",
       "      <td>4.8470</td>\n",
       "      <td>79.917</td>\n",
       "    </tr>\n",
       "    <tr>\n",
       "      <th>15036</th>\n",
       "      <td>7.2647</td>\n",
       "      <td>1006.3</td>\n",
       "      <td>99.496</td>\n",
       "      <td>3.4770</td>\n",
       "      <td>19.530</td>\n",
       "      <td>1037.7</td>\n",
       "      <td>537.32</td>\n",
       "      <td>110.19</td>\n",
       "      <td>10.483</td>\n",
       "      <td>7.9632</td>\n",
       "      <td>90.912</td>\n",
       "    </tr>\n",
       "    <tr>\n",
       "      <th>15037</th>\n",
       "      <td>7.0060</td>\n",
       "      <td>1006.8</td>\n",
       "      <td>99.008</td>\n",
       "      <td>3.4486</td>\n",
       "      <td>19.377</td>\n",
       "      <td>1043.2</td>\n",
       "      <td>541.24</td>\n",
       "      <td>110.74</td>\n",
       "      <td>10.533</td>\n",
       "      <td>6.2494</td>\n",
       "      <td>93.227</td>\n",
       "    </tr>\n",
       "    <tr>\n",
       "      <th>15038</th>\n",
       "      <td>6.9279</td>\n",
       "      <td>1007.2</td>\n",
       "      <td>97.533</td>\n",
       "      <td>3.4275</td>\n",
       "      <td>19.306</td>\n",
       "      <td>1049.9</td>\n",
       "      <td>545.85</td>\n",
       "      <td>111.58</td>\n",
       "      <td>10.583</td>\n",
       "      <td>4.9816</td>\n",
       "      <td>92.498</td>\n",
       "    </tr>\n",
       "  </tbody>\n",
       "</table>\n",
       "<p>15039 rows × 11 columns</p>\n",
       "</div>"
      ],
      "text/plain": [
       "           AT      AP      AH    AFDP    GTEP     TIT     TAT     TEY     CDP  \\\n",
       "0      6.8594  1007.9  96.799  3.5000  19.663  1059.2  550.00  114.70  10.605   \n",
       "1      6.7850  1008.4  97.118  3.4998  19.728  1059.3  550.00  114.72  10.598   \n",
       "2      6.8977  1008.8  95.939  3.4824  19.779  1059.4  549.87  114.71  10.601   \n",
       "3      7.0569  1009.2  95.249  3.4805  19.792  1059.6  549.99  114.72  10.606   \n",
       "4      7.3978  1009.7  95.150  3.4976  19.765  1059.7  549.98  114.72  10.612   \n",
       "...       ...     ...     ...     ...     ...     ...     ...     ...     ...   \n",
       "15034  9.0301  1005.6  98.460  3.5421  19.164  1049.7  546.21  111.61  10.400   \n",
       "15035  7.8879  1005.9  99.093  3.5059  19.414  1046.3  543.22  111.78  10.433   \n",
       "15036  7.2647  1006.3  99.496  3.4770  19.530  1037.7  537.32  110.19  10.483   \n",
       "15037  7.0060  1006.8  99.008  3.4486  19.377  1043.2  541.24  110.74  10.533   \n",
       "15038  6.9279  1007.2  97.533  3.4275  19.306  1049.9  545.85  111.58  10.583   \n",
       "\n",
       "           CO     NOX  \n",
       "0      3.1547  82.722  \n",
       "1      3.2363  82.776  \n",
       "2      3.2012  82.468  \n",
       "3      3.1923  82.670  \n",
       "4      3.2484  82.311  \n",
       "...       ...     ...  \n",
       "15034  4.5186  79.559  \n",
       "15035  4.8470  79.917  \n",
       "15036  7.9632  90.912  \n",
       "15037  6.2494  93.227  \n",
       "15038  4.9816  92.498  \n",
       "\n",
       "[15039 rows x 11 columns]"
      ]
     },
     "execution_count": 5,
     "metadata": {},
     "output_type": "execute_result"
    }
   ],
   "source": [
    "gas"
   ]
  },
  {
   "cell_type": "code",
   "execution_count": 6,
   "metadata": {
    "colab": {
     "base_uri": "https://localhost:8080/"
    },
    "id": "GlUSpd33b4NO",
    "outputId": "e66aaa08-7ce2-4bb2-ca7b-b86f73141b21"
   },
   "outputs": [
    {
     "data": {
      "text/plain": [
       "Index(['AT', 'AP', 'AH', 'AFDP', 'GTEP', 'TIT', 'TAT', 'TEY', 'CDP', 'CO',\n",
       "       'NOX'],\n",
       "      dtype='object')"
      ]
     },
     "execution_count": 6,
     "metadata": {},
     "output_type": "execute_result"
    }
   ],
   "source": [
    "gas.columns"
   ]
  },
  {
   "cell_type": "code",
   "execution_count": 7,
   "metadata": {
    "colab": {
     "base_uri": "https://localhost:8080/"
    },
    "id": "emEaEYXbumhz",
    "outputId": "8d308cea-5ed1-4e03-c212-3074988f5874"
   },
   "outputs": [
    {
     "name": "stdout",
     "output_type": "stream",
     "text": [
      "<class 'pandas.core.frame.DataFrame'>\n",
      "RangeIndex: 15039 entries, 0 to 15038\n",
      "Data columns (total 11 columns):\n",
      " #   Column  Non-Null Count  Dtype  \n",
      "---  ------  --------------  -----  \n",
      " 0   AT      15039 non-null  float64\n",
      " 1   AP      15039 non-null  float64\n",
      " 2   AH      15039 non-null  float64\n",
      " 3   AFDP    15039 non-null  float64\n",
      " 4   GTEP    15039 non-null  float64\n",
      " 5   TIT     15039 non-null  float64\n",
      " 6   TAT     15039 non-null  float64\n",
      " 7   TEY     15039 non-null  float64\n",
      " 8   CDP     15039 non-null  float64\n",
      " 9   CO      15039 non-null  float64\n",
      " 10  NOX     15039 non-null  float64\n",
      "dtypes: float64(11)\n",
      "memory usage: 1.3 MB\n"
     ]
    }
   ],
   "source": [
    "gas.info()"
   ]
  },
  {
   "cell_type": "code",
   "execution_count": 8,
   "metadata": {
    "colab": {
     "base_uri": "https://localhost:8080/",
     "height": 300
    },
    "id": "yIQ0Z8YQumXD",
    "outputId": "f6d53bdc-1a2f-4ffc-bfd2-dc4b81b925f2"
   },
   "outputs": [
    {
     "data": {
      "text/html": [
       "<div>\n",
       "<style scoped>\n",
       "    .dataframe tbody tr th:only-of-type {\n",
       "        vertical-align: middle;\n",
       "    }\n",
       "\n",
       "    .dataframe tbody tr th {\n",
       "        vertical-align: top;\n",
       "    }\n",
       "\n",
       "    .dataframe thead th {\n",
       "        text-align: right;\n",
       "    }\n",
       "</style>\n",
       "<table border=\"1\" class=\"dataframe\">\n",
       "  <thead>\n",
       "    <tr style=\"text-align: right;\">\n",
       "      <th></th>\n",
       "      <th>AT</th>\n",
       "      <th>AP</th>\n",
       "      <th>AH</th>\n",
       "      <th>AFDP</th>\n",
       "      <th>GTEP</th>\n",
       "      <th>TIT</th>\n",
       "      <th>TAT</th>\n",
       "      <th>TEY</th>\n",
       "      <th>CDP</th>\n",
       "      <th>CO</th>\n",
       "      <th>NOX</th>\n",
       "    </tr>\n",
       "  </thead>\n",
       "  <tbody>\n",
       "    <tr>\n",
       "      <th>count</th>\n",
       "      <td>15039.000000</td>\n",
       "      <td>15039.00000</td>\n",
       "      <td>15039.000000</td>\n",
       "      <td>15039.000000</td>\n",
       "      <td>15039.000000</td>\n",
       "      <td>15039.000000</td>\n",
       "      <td>15039.000000</td>\n",
       "      <td>15039.000000</td>\n",
       "      <td>15039.000000</td>\n",
       "      <td>15039.000000</td>\n",
       "      <td>15039.000000</td>\n",
       "    </tr>\n",
       "    <tr>\n",
       "      <th>mean</th>\n",
       "      <td>17.764381</td>\n",
       "      <td>1013.19924</td>\n",
       "      <td>79.124174</td>\n",
       "      <td>4.200294</td>\n",
       "      <td>25.419061</td>\n",
       "      <td>1083.798770</td>\n",
       "      <td>545.396183</td>\n",
       "      <td>134.188464</td>\n",
       "      <td>12.102353</td>\n",
       "      <td>1.972499</td>\n",
       "      <td>68.190934</td>\n",
       "    </tr>\n",
       "    <tr>\n",
       "      <th>std</th>\n",
       "      <td>7.574323</td>\n",
       "      <td>6.41076</td>\n",
       "      <td>13.793439</td>\n",
       "      <td>0.760197</td>\n",
       "      <td>4.173916</td>\n",
       "      <td>16.527806</td>\n",
       "      <td>7.866803</td>\n",
       "      <td>15.829717</td>\n",
       "      <td>1.103196</td>\n",
       "      <td>2.222206</td>\n",
       "      <td>10.470586</td>\n",
       "    </tr>\n",
       "    <tr>\n",
       "      <th>min</th>\n",
       "      <td>0.522300</td>\n",
       "      <td>985.85000</td>\n",
       "      <td>30.344000</td>\n",
       "      <td>2.087400</td>\n",
       "      <td>17.878000</td>\n",
       "      <td>1000.800000</td>\n",
       "      <td>512.450000</td>\n",
       "      <td>100.170000</td>\n",
       "      <td>9.904400</td>\n",
       "      <td>0.000388</td>\n",
       "      <td>27.765000</td>\n",
       "    </tr>\n",
       "    <tr>\n",
       "      <th>25%</th>\n",
       "      <td>11.408000</td>\n",
       "      <td>1008.90000</td>\n",
       "      <td>69.750000</td>\n",
       "      <td>3.723900</td>\n",
       "      <td>23.294000</td>\n",
       "      <td>1079.600000</td>\n",
       "      <td>542.170000</td>\n",
       "      <td>127.985000</td>\n",
       "      <td>11.622000</td>\n",
       "      <td>0.858055</td>\n",
       "      <td>61.303500</td>\n",
       "    </tr>\n",
       "    <tr>\n",
       "      <th>50%</th>\n",
       "      <td>18.186000</td>\n",
       "      <td>1012.80000</td>\n",
       "      <td>82.266000</td>\n",
       "      <td>4.186200</td>\n",
       "      <td>25.082000</td>\n",
       "      <td>1088.700000</td>\n",
       "      <td>549.890000</td>\n",
       "      <td>133.780000</td>\n",
       "      <td>12.025000</td>\n",
       "      <td>1.390200</td>\n",
       "      <td>66.601000</td>\n",
       "    </tr>\n",
       "    <tr>\n",
       "      <th>75%</th>\n",
       "      <td>23.862500</td>\n",
       "      <td>1016.90000</td>\n",
       "      <td>90.043500</td>\n",
       "      <td>4.550900</td>\n",
       "      <td>27.184000</td>\n",
       "      <td>1096.000000</td>\n",
       "      <td>550.060000</td>\n",
       "      <td>140.895000</td>\n",
       "      <td>12.578000</td>\n",
       "      <td>2.160400</td>\n",
       "      <td>73.935500</td>\n",
       "    </tr>\n",
       "    <tr>\n",
       "      <th>max</th>\n",
       "      <td>34.929000</td>\n",
       "      <td>1034.20000</td>\n",
       "      <td>100.200000</td>\n",
       "      <td>7.610600</td>\n",
       "      <td>37.402000</td>\n",
       "      <td>1100.800000</td>\n",
       "      <td>550.610000</td>\n",
       "      <td>174.610000</td>\n",
       "      <td>15.081000</td>\n",
       "      <td>44.103000</td>\n",
       "      <td>119.890000</td>\n",
       "    </tr>\n",
       "  </tbody>\n",
       "</table>\n",
       "</div>"
      ],
      "text/plain": [
       "                 AT           AP            AH          AFDP          GTEP  \\\n",
       "count  15039.000000  15039.00000  15039.000000  15039.000000  15039.000000   \n",
       "mean      17.764381   1013.19924     79.124174      4.200294     25.419061   \n",
       "std        7.574323      6.41076     13.793439      0.760197      4.173916   \n",
       "min        0.522300    985.85000     30.344000      2.087400     17.878000   \n",
       "25%       11.408000   1008.90000     69.750000      3.723900     23.294000   \n",
       "50%       18.186000   1012.80000     82.266000      4.186200     25.082000   \n",
       "75%       23.862500   1016.90000     90.043500      4.550900     27.184000   \n",
       "max       34.929000   1034.20000    100.200000      7.610600     37.402000   \n",
       "\n",
       "                TIT           TAT           TEY           CDP            CO  \\\n",
       "count  15039.000000  15039.000000  15039.000000  15039.000000  15039.000000   \n",
       "mean    1083.798770    545.396183    134.188464     12.102353      1.972499   \n",
       "std       16.527806      7.866803     15.829717      1.103196      2.222206   \n",
       "min     1000.800000    512.450000    100.170000      9.904400      0.000388   \n",
       "25%     1079.600000    542.170000    127.985000     11.622000      0.858055   \n",
       "50%     1088.700000    549.890000    133.780000     12.025000      1.390200   \n",
       "75%     1096.000000    550.060000    140.895000     12.578000      2.160400   \n",
       "max     1100.800000    550.610000    174.610000     15.081000     44.103000   \n",
       "\n",
       "                NOX  \n",
       "count  15039.000000  \n",
       "mean      68.190934  \n",
       "std       10.470586  \n",
       "min       27.765000  \n",
       "25%       61.303500  \n",
       "50%       66.601000  \n",
       "75%       73.935500  \n",
       "max      119.890000  "
      ]
     },
     "execution_count": 8,
     "metadata": {},
     "output_type": "execute_result"
    }
   ],
   "source": [
    "gas.describe()"
   ]
  },
  {
   "cell_type": "code",
   "execution_count": 9,
   "metadata": {
    "colab": {
     "base_uri": "https://localhost:8080/"
    },
    "id": "YFD7cQI9vvyH",
    "outputId": "00602f26-4e39-4466-9fdf-cfdebe69d3d1"
   },
   "outputs": [
    {
     "data": {
      "text/plain": [
       "TEY     1.000000\n",
       "CDP     0.988473\n",
       "GTEP    0.977042\n",
       "TIT     0.891587\n",
       "AFDP    0.717995\n",
       "AP      0.146939\n",
       "NOX    -0.102631\n",
       "AH     -0.110272\n",
       "AT     -0.207495\n",
       "CO     -0.541751\n",
       "TAT    -0.720356\n",
       "Name: TEY, dtype: float64"
      ]
     },
     "execution_count": 9,
     "metadata": {},
     "output_type": "execute_result"
    }
   ],
   "source": [
    "gas.corr()[\"TEY\"].sort_values(ascending=False)"
   ]
  },
  {
   "cell_type": "code",
   "execution_count": 10,
   "metadata": {
    "colab": {
     "base_uri": "https://localhost:8080/"
    },
    "id": "Qqlmb5qsvvvD",
    "outputId": "c4cf67be-bc13-44d2-ca3f-6a09cdddaf51"
   },
   "outputs": [
    {
     "data": {
      "text/plain": [
       "Index(['AT', 'AP', 'AH', 'AFDP', 'GTEP', 'TIT', 'TAT', 'TEY', 'CDP', 'CO',\n",
       "       'NOX'],\n",
       "      dtype='object')"
      ]
     },
     "execution_count": 10,
     "metadata": {},
     "output_type": "execute_result"
    }
   ],
   "source": [
    "numerical_features = gas.describe(include=[\"float64\"]).columns\n",
    "numerical_features"
   ]
  },
  {
   "cell_type": "markdown",
   "metadata": {
    "id": "yd1X6qwKwK_X"
   },
   "source": [
    "Visualization of Data"
   ]
  },
  {
   "cell_type": "code",
   "execution_count": 11,
   "metadata": {
    "colab": {
     "base_uri": "https://localhost:8080/",
     "height": 1000
    },
    "id": "3l3gOp6TcfAU",
    "outputId": "e86f4e2e-2275-4ec3-a660-8ef38ea128b0"
   },
   "outputs": [
    {
     "data": {
      "image/png": "[encoded data removed]",
      "text/plain": [
       "<Figure size 640x480 with 1 Axes>"
      ]
     },
     "metadata": {},
     "output_type": "display_data"
    },
    {
     "data": {
      "image/png": "[encoded data removed]",
      "text/plain": [
       "<Figure size 640x480 with 1 Axes>"
      ]
     },
     "metadata": {},
     "output_type": "display_data"
    },
    {
     "data": {
      "image/png": "[encoded data removed]",
      "text/plain": [
       "<Figure size 640x480 with 1 Axes>"
      ]
     },
     "metadata": {},
     "output_type": "display_data"
    },
    {
     "data": {
      "image/png": "[encoded data removed]",
      "text/plain": [
       "<Figure size 640x480 with 1 Axes>"
      ]
     },
     "metadata": {},
     "output_type": "display_data"
    },
    {
     "data": {
      "image/png": "[encoded data removed]",
      "text/plain": [
       "<Figure size 640x480 with 1 Axes>"
      ]
     },
     "metadata": {},
     "output_type": "display_data"
    },
    {
     "data": {
      "image/png": "[encoded data removed]",
      "text/plain": [
       "<Figure size 640x480 with 1 Axes>"
      ]
     },
     "metadata": {},
     "output_type": "display_data"
    },
    {
     "data": {
      "image/png": "[encoded data removed]",
      "text/plain": [
       "<Figure size 640x480 with 1 Axes>"
      ]
     },
     "metadata": {},
     "output_type": "display_data"
    },
    {
     "data": {
      "image/png": "[encoded data removed]",
      "text/plain": [
       "<Figure size 640x480 with 1 Axes>"
      ]
     },
     "metadata": {},
     "output_type": "display_data"
    },
    {
     "data": {
      "image/png": "[encoded data removed]",
      "text/plain": [
       "<Figure size 640x480 with 1 Axes>"
      ]
     },
     "metadata": {},
     "output_type": "display_data"
    },
    {
     "data": {
      "image/png": "[encoded data removed]",
      "text/plain": [
       "<Figure size 640x480 with 1 Axes>"
      ]
     },
     "metadata": {},
     "output_type": "display_data"
    },
    {
     "data": {
      "image/png": "[encoded data removed]",
      "text/plain": [
       "<Figure size 640x480 with 1 Axes>"
      ]
     },
     "metadata": {},
     "output_type": "display_data"
    }
   ],
   "source": [
    "numerical_features=[feature for feature in gas.columns if gas[feature].dtypes != 'O']\n",
    "for feat in numerical_features:\n",
    "    skew = gas[feat].skew()\n",
    "    sns.distplot(gas[feat], kde= False, label='Skew = %.3f' %(skew), bins=30)\n",
    "    plt.legend(loc='best')\n",
    "    plt.show()\n"
   ]
  },
  {
   "cell_type": "code",
   "execution_count": 12,
   "metadata": {
    "colab": {
     "base_uri": "https://localhost:8080/",
     "height": 1000
    },
    "id": "yqvFqHfyw8NM",
    "outputId": "e2b93aee-2a89-4afe-c43e-af96a41bce3a"
   },
   "outputs": [
    {
     "data": {
      "text/plain": [
       "<Axes: >"
      ]
     },
     "execution_count": 12,
     "metadata": {},
     "output_type": "execute_result"
    },
    {
     "data": {
      "image/png": "[encoded data removed]",
      "text/plain": [
       "<Figure size 1600x1200 with 2 Axes>"
      ]
     },
     "metadata": {},
     "output_type": "display_data"
    }
   ],
   "source": [
    "# Having a look at the correlation matrix\n",
    "\n",
    "plt.figure(figsize=(16,12))\n",
    "mask = np.zeros_like(gas.corr(), dtype=np.bool_)\n",
    "mask[np.triu_indices_from(mask)] = True\n",
    "sns.heatmap(data=gas.corr(), cmap=\"jet\", annot=True,linewidths=1, linecolor='white',mask=mask)"
   ]
  },
  {
   "cell_type": "code",
   "execution_count": 13,
   "metadata": {
    "id": "EZmK1C7Mw8Kb"
   },
   "outputs": [],
   "source": [
    "X = gas.drop('TEY', axis=1)\n",
    "Y = gas[[\"TEY\"]]"
   ]
  },
  {
   "cell_type": "code",
   "execution_count": 14,
   "metadata": {
    "colab": {
     "base_uri": "https://localhost:8080/",
     "height": 831
    },
    "id": "fkw3lc9Ew8H2",
    "outputId": "646fb674-5292-4762-d49a-0933b9064135"
   },
   "outputs": [
    {
     "data": {
      "text/plain": [
       "Text(0.5, 1.0, 'Correlation with Turbine energy yield \\n')"
      ]
     },
     "execution_count": 14,
     "metadata": {},
     "output_type": "execute_result"
    },
    {
     "data": {
      "image/png": "[encoded data removed]",
      "text/plain": [
       "<Figure size 1800x1000 with 1 Axes>"
      ]
     },
     "metadata": {},
     "output_type": "display_data"
    }
   ],
   "source": [
    "data2 = gas.copy()\n",
    "\n",
    "correlations = data2.corrwith(gas.TEY)\n",
    "correlations = correlations[correlations!=1]\n",
    "positive_correlations = correlations[correlations >0].sort_values(ascending = False)\n",
    "negative_correlations =correlations[correlations<0].sort_values(ascending = False)\n",
    "\n",
    "correlations.plot.bar(\n",
    "        figsize = (18, 10),\n",
    "        fontsize = 15,\n",
    "        color = 'orange',\n",
    "        rot = 45, grid = True)\n",
    "plt.title('Correlation with Turbine energy yield \\n',\n",
    "horizontalalignment=\"center\", fontstyle = \"normal\",\n",
    "fontsize = \"22\", fontfamily = \"sans-serif\")"
   ]
  },
  {
   "cell_type": "code",
   "execution_count": 15,
   "metadata": {
    "id": "ZdmYRpW_w8C7"
   },
   "outputs": [],
   "source": [
    "#Feature Selection Technique\n",
    "\n",
    "from sklearn.feature_selection import SelectKBest\n",
    "from sklearn.feature_selection import mutual_info_regression\n",
    "\n",
    "#Feature importance\n",
    "from numpy import set_printoptions\n",
    "\n",
    "# feature extraction\n",
    "test = SelectKBest(score_func=mutual_info_regression, k='all')\n",
    "fit = test.fit(X,Y)"
   ]
  },
  {
   "cell_type": "code",
   "execution_count": 16,
   "metadata": {
    "colab": {
     "base_uri": "https://localhost:8080/",
     "height": 362
    },
    "id": "n7WhowI4yAS7",
    "outputId": "e057a5a4-4bc4-4ce3-e964-e6c4ae0d8dfd"
   },
   "outputs": [
    {
     "data": {
      "text/html": [
       "<div>\n",
       "<style scoped>\n",
       "    .dataframe tbody tr th:only-of-type {\n",
       "        vertical-align: middle;\n",
       "    }\n",
       "\n",
       "    .dataframe tbody tr th {\n",
       "        vertical-align: top;\n",
       "    }\n",
       "\n",
       "    .dataframe thead th {\n",
       "        text-align: right;\n",
       "    }\n",
       "</style>\n",
       "<table border=\"1\" class=\"dataframe\">\n",
       "  <thead>\n",
       "    <tr style=\"text-align: right;\">\n",
       "      <th></th>\n",
       "      <th>Score</th>\n",
       "      <th>Feature</th>\n",
       "    </tr>\n",
       "  </thead>\n",
       "  <tbody>\n",
       "    <tr>\n",
       "      <th>7</th>\n",
       "      <td>1.712492</td>\n",
       "      <td>CDP</td>\n",
       "    </tr>\n",
       "    <tr>\n",
       "      <th>4</th>\n",
       "      <td>1.599871</td>\n",
       "      <td>GTEP</td>\n",
       "    </tr>\n",
       "    <tr>\n",
       "      <th>5</th>\n",
       "      <td>1.323172</td>\n",
       "      <td>TIT</td>\n",
       "    </tr>\n",
       "    <tr>\n",
       "      <th>6</th>\n",
       "      <td>0.892493</td>\n",
       "      <td>TAT</td>\n",
       "    </tr>\n",
       "    <tr>\n",
       "      <th>3</th>\n",
       "      <td>0.660659</td>\n",
       "      <td>AFDP</td>\n",
       "    </tr>\n",
       "    <tr>\n",
       "      <th>8</th>\n",
       "      <td>0.512887</td>\n",
       "      <td>CO</td>\n",
       "    </tr>\n",
       "    <tr>\n",
       "      <th>0</th>\n",
       "      <td>0.412424</td>\n",
       "      <td>AT</td>\n",
       "    </tr>\n",
       "    <tr>\n",
       "      <th>9</th>\n",
       "      <td>0.300909</td>\n",
       "      <td>NOX</td>\n",
       "    </tr>\n",
       "    <tr>\n",
       "      <th>1</th>\n",
       "      <td>0.138836</td>\n",
       "      <td>AP</td>\n",
       "    </tr>\n",
       "    <tr>\n",
       "      <th>2</th>\n",
       "      <td>0.097849</td>\n",
       "      <td>AH</td>\n",
       "    </tr>\n",
       "  </tbody>\n",
       "</table>\n",
       "</div>"
      ],
      "text/plain": [
       "      Score Feature\n",
       "7  1.712492     CDP\n",
       "4  1.599871    GTEP\n",
       "5  1.323172     TIT\n",
       "6  0.892493     TAT\n",
       "3  0.660659    AFDP\n",
       "8  0.512887      CO\n",
       "0  0.412424      AT\n",
       "9  0.300909     NOX\n",
       "1  0.138836      AP\n",
       "2  0.097849      AH"
      ]
     },
     "execution_count": 16,
     "metadata": {},
     "output_type": "execute_result"
    }
   ],
   "source": [
    "# summarize scores\n",
    "scores = fit.scores_\n",
    "\n",
    "features = fit.transform(X)\n",
    "\n",
    "score_df = pd.DataFrame(list(zip(scores, X.columns)),\n",
    "               columns =['Score', 'Feature'])\n",
    "score_df.sort_values(by=\"Score\", ascending=False, inplace=True)\n",
    "score_df"
   ]
  },
  {
   "cell_type": "code",
   "execution_count": 17,
   "metadata": {
    "colab": {
     "base_uri": "https://localhost:8080/",
     "height": 610
    },
    "id": "3ql6xmfOyAQ8",
    "outputId": "20de61fb-5a1f-4902-e6b5-cd2f3f52df71"
   },
   "outputs": [
    {
     "data": {
      "image/png": "[encoded data removed]",
      "text/plain": [
       "<Figure size 2000x800 with 1 Axes>"
      ]
     },
     "metadata": {},
     "output_type": "display_data"
    }
   ],
   "source": [
    "plt.figure(figsize=(20,8))\n",
    "# make barplot and sort bars\n",
    "sns.barplot(x='Feature',\n",
    "            y=\"Score\",\n",
    "            data=score_df,\n",
    "            order=score_df.sort_values('Score').Feature)\n",
    "# set labels\n",
    "plt.xlabel(\"Features\", size=15)\n",
    "plt.ylabel(\"Scores\", size=15)\n",
    "plt.yticks(rotation = 0, fontsize = 14)\n",
    "plt.xticks(rotation = 90, fontsize = 16)\n",
    "plt.title(\"Feature Score w.r.t the Sales\", size=18)\n",
    "plt.show()"
   ]
  },
  {
   "cell_type": "code",
   "execution_count": 18,
   "metadata": {
    "colab": {
     "base_uri": "https://localhost:8080/",
     "height": 206
    },
    "id": "mUhZLGvyyAOL",
    "outputId": "7b58e52e-d270-4acf-f845-bd0382a3bdc7"
   },
   "outputs": [
    {
     "data": {
      "text/html": [
       "<div>\n",
       "<style scoped>\n",
       "    .dataframe tbody tr th:only-of-type {\n",
       "        vertical-align: middle;\n",
       "    }\n",
       "\n",
       "    .dataframe tbody tr th {\n",
       "        vertical-align: top;\n",
       "    }\n",
       "\n",
       "    .dataframe thead th {\n",
       "        text-align: right;\n",
       "    }\n",
       "</style>\n",
       "<table border=\"1\" class=\"dataframe\">\n",
       "  <thead>\n",
       "    <tr style=\"text-align: right;\">\n",
       "      <th></th>\n",
       "      <th>CDP</th>\n",
       "      <th>GTEP</th>\n",
       "      <th>TIT</th>\n",
       "      <th>TAT</th>\n",
       "      <th>AFDP</th>\n",
       "      <th>CO</th>\n",
       "      <th>AT</th>\n",
       "      <th>TEY</th>\n",
       "    </tr>\n",
       "  </thead>\n",
       "  <tbody>\n",
       "    <tr>\n",
       "      <th>0</th>\n",
       "      <td>10.605</td>\n",
       "      <td>19.663</td>\n",
       "      <td>1059.2</td>\n",
       "      <td>550.00</td>\n",
       "      <td>3.5000</td>\n",
       "      <td>3.1547</td>\n",
       "      <td>6.8594</td>\n",
       "      <td>114.70</td>\n",
       "    </tr>\n",
       "    <tr>\n",
       "      <th>1</th>\n",
       "      <td>10.598</td>\n",
       "      <td>19.728</td>\n",
       "      <td>1059.3</td>\n",
       "      <td>550.00</td>\n",
       "      <td>3.4998</td>\n",
       "      <td>3.2363</td>\n",
       "      <td>6.7850</td>\n",
       "      <td>114.72</td>\n",
       "    </tr>\n",
       "    <tr>\n",
       "      <th>2</th>\n",
       "      <td>10.601</td>\n",
       "      <td>19.779</td>\n",
       "      <td>1059.4</td>\n",
       "      <td>549.87</td>\n",
       "      <td>3.4824</td>\n",
       "      <td>3.2012</td>\n",
       "      <td>6.8977</td>\n",
       "      <td>114.71</td>\n",
       "    </tr>\n",
       "    <tr>\n",
       "      <th>3</th>\n",
       "      <td>10.606</td>\n",
       "      <td>19.792</td>\n",
       "      <td>1059.6</td>\n",
       "      <td>549.99</td>\n",
       "      <td>3.4805</td>\n",
       "      <td>3.1923</td>\n",
       "      <td>7.0569</td>\n",
       "      <td>114.72</td>\n",
       "    </tr>\n",
       "    <tr>\n",
       "      <th>4</th>\n",
       "      <td>10.612</td>\n",
       "      <td>19.765</td>\n",
       "      <td>1059.7</td>\n",
       "      <td>549.98</td>\n",
       "      <td>3.4976</td>\n",
       "      <td>3.2484</td>\n",
       "      <td>7.3978</td>\n",
       "      <td>114.72</td>\n",
       "    </tr>\n",
       "  </tbody>\n",
       "</table>\n",
       "</div>"
      ],
      "text/plain": [
       "      CDP    GTEP     TIT     TAT    AFDP      CO      AT     TEY\n",
       "0  10.605  19.663  1059.2  550.00  3.5000  3.1547  6.8594  114.70\n",
       "1  10.598  19.728  1059.3  550.00  3.4998  3.2363  6.7850  114.72\n",
       "2  10.601  19.779  1059.4  549.87  3.4824  3.2012  6.8977  114.71\n",
       "3  10.606  19.792  1059.6  549.99  3.4805  3.1923  7.0569  114.72\n",
       "4  10.612  19.765  1059.7  549.98  3.4976  3.2484  7.3978  114.72"
      ]
     },
     "execution_count": 18,
     "metadata": {},
     "output_type": "execute_result"
    }
   ],
   "source": [
    "model_data = gas[['CDP', 'GTEP','TIT', 'TAT', 'AFDP', 'CO', 'AT',\"TEY\"]]\n",
    "model_data.head()"
   ]
  },
  {
   "cell_type": "code",
   "execution_count": 19,
   "metadata": {
    "colab": {
     "base_uri": "https://localhost:8080/"
    },
    "id": "6SkG3PojgRe8",
    "outputId": "8e256370-4efb-4403-949c-83721d3d98df"
   },
   "outputs": [
    {
     "name": "stdout",
     "output_type": "stream",
     "text": [
      "Continuous Feature Count 8\n"
     ]
    }
   ],
   "source": [
    "continuous_feature=[feature for feature in model_data.columns if model_data[feature].dtype!='O']\n",
    "print('Continuous Feature Count {}'.format(len(continuous_feature)))"
   ]
  },
  {
   "cell_type": "code",
   "execution_count": 20,
   "metadata": {
    "id": "iRXj9tBYgRce"
   },
   "outputs": [],
   "source": [
    "df_standard_scaled = model_data.copy()\n",
    "features = df_standard_scaled[continuous_feature]"
   ]
  },
  {
   "cell_type": "code",
   "execution_count": 21,
   "metadata": {
    "colab": {
     "base_uri": "https://localhost:8080/",
     "height": 206
    },
    "id": "C5ffv3ocgRaD",
    "outputId": "21e6a4d3-6fb0-4280-dbf7-f7fe933971ef"
   },
   "outputs": [
    {
     "data": {
      "text/html": [
       "<div>\n",
       "<style scoped>\n",
       "    .dataframe tbody tr th:only-of-type {\n",
       "        vertical-align: middle;\n",
       "    }\n",
       "\n",
       "    .dataframe tbody tr th {\n",
       "        vertical-align: top;\n",
       "    }\n",
       "\n",
       "    .dataframe thead th {\n",
       "        text-align: right;\n",
       "    }\n",
       "</style>\n",
       "<table border=\"1\" class=\"dataframe\">\n",
       "  <thead>\n",
       "    <tr style=\"text-align: right;\">\n",
       "      <th></th>\n",
       "      <th>CDP</th>\n",
       "      <th>GTEP</th>\n",
       "      <th>TIT</th>\n",
       "      <th>TAT</th>\n",
       "      <th>AFDP</th>\n",
       "      <th>CO</th>\n",
       "      <th>AT</th>\n",
       "      <th>TEY</th>\n",
       "    </tr>\n",
       "  </thead>\n",
       "  <tbody>\n",
       "    <tr>\n",
       "      <th>0</th>\n",
       "      <td>-1.357331</td>\n",
       "      <td>-1.379101</td>\n",
       "      <td>-1.488376</td>\n",
       "      <td>0.585240</td>\n",
       "      <td>-0.921232</td>\n",
       "      <td>0.532012</td>\n",
       "      <td>-1.439778</td>\n",
       "      <td>-1.231172</td>\n",
       "    </tr>\n",
       "    <tr>\n",
       "      <th>1</th>\n",
       "      <td>-1.363676</td>\n",
       "      <td>-1.363528</td>\n",
       "      <td>-1.482325</td>\n",
       "      <td>0.585240</td>\n",
       "      <td>-0.921495</td>\n",
       "      <td>0.568733</td>\n",
       "      <td>-1.449601</td>\n",
       "      <td>-1.229909</td>\n",
       "    </tr>\n",
       "    <tr>\n",
       "      <th>2</th>\n",
       "      <td>-1.360957</td>\n",
       "      <td>-1.351309</td>\n",
       "      <td>-1.476275</td>\n",
       "      <td>0.568715</td>\n",
       "      <td>-0.944385</td>\n",
       "      <td>0.552938</td>\n",
       "      <td>-1.434721</td>\n",
       "      <td>-1.230541</td>\n",
       "    </tr>\n",
       "    <tr>\n",
       "      <th>3</th>\n",
       "      <td>-1.356424</td>\n",
       "      <td>-1.348194</td>\n",
       "      <td>-1.464173</td>\n",
       "      <td>0.583969</td>\n",
       "      <td>-0.946884</td>\n",
       "      <td>0.548933</td>\n",
       "      <td>-1.413702</td>\n",
       "      <td>-1.229909</td>\n",
       "    </tr>\n",
       "    <tr>\n",
       "      <th>4</th>\n",
       "      <td>-1.350985</td>\n",
       "      <td>-1.354663</td>\n",
       "      <td>-1.458123</td>\n",
       "      <td>0.582698</td>\n",
       "      <td>-0.924389</td>\n",
       "      <td>0.574179</td>\n",
       "      <td>-1.368693</td>\n",
       "      <td>-1.229909</td>\n",
       "    </tr>\n",
       "  </tbody>\n",
       "</table>\n",
       "</div>"
      ],
      "text/plain": [
       "        CDP      GTEP       TIT       TAT      AFDP        CO        AT  \\\n",
       "0 -1.357331 -1.379101 -1.488376  0.585240 -0.921232  0.532012 -1.439778   \n",
       "1 -1.363676 -1.363528 -1.482325  0.585240 -0.921495  0.568733 -1.449601   \n",
       "2 -1.360957 -1.351309 -1.476275  0.568715 -0.944385  0.552938 -1.434721   \n",
       "3 -1.356424 -1.348194 -1.464173  0.583969 -0.946884  0.548933 -1.413702   \n",
       "4 -1.350985 -1.354663 -1.458123  0.582698 -0.924389  0.574179 -1.368693   \n",
       "\n",
       "        TEY  \n",
       "0 -1.231172  \n",
       "1 -1.229909  \n",
       "2 -1.230541  \n",
       "3 -1.229909  \n",
       "4 -1.229909  "
      ]
     },
     "execution_count": 21,
     "metadata": {},
     "output_type": "execute_result"
    }
   ],
   "source": [
    "from sklearn.preprocessing import StandardScaler\n",
    "scaler = StandardScaler()\n",
    "\n",
    "df_standard_scaled[continuous_feature] = scaler.fit_transform(features.values)\n",
    "df_standard_scaled.head()"
   ]
  },
  {
   "cell_type": "code",
   "execution_count": 22,
   "metadata": {
    "colab": {
     "base_uri": "https://localhost:8080/"
    },
    "id": "I3UKoQ9BgRXg",
    "outputId": "7b3ebdaf-dd53-4a63-cfbd-14c7d7212d59"
   },
   "outputs": [
    {
     "name": "stdout",
     "output_type": "stream",
     "text": [
      "Mean\n",
      " CDP     0.0\n",
      "GTEP   -0.0\n",
      "TIT    -0.0\n",
      "TAT     0.0\n",
      "AFDP    0.0\n",
      "CO      0.0\n",
      "AT      0.0\n",
      "TEY     0.0\n",
      "dtype: float64 \n",
      "Standard Devaition \n",
      " CDP     1.0\n",
      "GTEP    1.0\n",
      "TIT     1.0\n",
      "TAT     1.0\n",
      "AFDP    1.0\n",
      "CO      1.0\n",
      "AT      1.0\n",
      "TEY     1.0\n",
      "dtype: float64 1\n"
     ]
    }
   ],
   "source": [
    "print('Mean' '\\n',np.round(df_standard_scaled.mean(),1),'\\n' 'Standard Devaition','\\n',np.round(df_standard_scaled.std()),1)"
   ]
  },
  {
   "cell_type": "code",
   "execution_count": 23,
   "metadata": {
    "id": "gb2jcf93gRUp"
   },
   "outputs": [],
   "source": [
    "# Test Train Split With Imbalanced Dataset\n",
    "\n",
    "x = df_standard_scaled.drop('TEY',axis=1)\n",
    "y = df_standard_scaled[['TEY']]\n",
    "\n",
    "# Splitting data into test data and train data\n",
    "\n",
    "x_train, x_test, y_train, y_test = train_test_split(x, y, test_size=0.3, random_state=3)"
   ]
  },
  {
   "cell_type": "code",
   "execution_count": 24,
   "metadata": {
    "id": "uP0Y8UxigRSD"
   },
   "outputs": [],
   "source": [
    "# Hyperparameter Tuning: Optimal Learning rate ,Number of Layers and Neurons\n",
    "\n",
    "def build_model(hp):\n",
    "    model =Sequential()\n",
    "    for i in range(hp.Int('num_layers', 2, 20)):\n",
    "        model.add(layers.Dense(units=hp.Int('units_' + str(i),\n",
    "                                            min_value=32,\n",
    "                                            max_value=100,\n",
    "                                            step=32),\n",
    "                               activation='relu'))\n",
    "    model.add(layers.Dense(1, activation='linear'))\n",
    "    model.compile(\n",
    "        optimizer=keras.optimizers.Adam(\n",
    "            hp.Choice('learning_rate', [1e-2, 1e-3, 1e-4])),\n",
    "        loss='mean_absolute_error',\n",
    "        metrics=['mean_absolute_error'])\n",
    "    return model\n"
   ]
  },
  {
   "cell_type": "code",
   "execution_count": 25,
   "metadata": {
    "colab": {
     "base_uri": "https://localhost:8080/"
    },
    "id": "fDMcG1TMgRPQ",
    "outputId": "960d03d1-8ecc-4072-f452-f8a6d896607c"
   },
   "outputs": [
    {
     "name": "stdout",
     "output_type": "stream",
     "text": [
      "Search space summary\n",
      "Default search space size: 4\n",
      "num_layers (Int)\n",
      "{'default': None, 'conditions': [], 'min_value': 2, 'max_value': 20, 'step': 1, 'sampling': 'linear'}\n",
      "units_0 (Int)\n",
      "{'default': None, 'conditions': [], 'min_value': 32, 'max_value': 100, 'step': 32, 'sampling': 'linear'}\n",
      "units_1 (Int)\n",
      "{'default': None, 'conditions': [], 'min_value': 32, 'max_value': 100, 'step': 32, 'sampling': 'linear'}\n",
      "learning_rate (Choice)\n",
      "{'default': 0.01, 'conditions': [], 'values': [0.01, 0.001, 0.0001], 'ordered': True}\n"
     ]
    }
   ],
   "source": [
    "tuner = RandomSearch(build_model,objective='val_mean_absolute_error',max_trials=5,  executions_per_trial=3,directory='project',project_name='Gas Turbine')\n",
    "tuner.search_space_summary()"
   ]
  },
  {
   "cell_type": "code",
   "execution_count": 26,
   "metadata": {
    "colab": {
     "base_uri": "https://localhost:8080/"
    },
    "id": "1Lv4tMmngRM0",
    "outputId": "3aae3ace-defa-43c1-fd3c-88f6e056e293"
   },
   "outputs": [
    {
     "name": "stdout",
     "output_type": "stream",
     "text": [
      "Trial 5 Complete [00h 07m 46s]\n",
      "val_mean_absolute_error: 0.024528410906593006\n",
      "\n",
      "Best val_mean_absolute_error So Far: 0.024528410906593006\n",
      "Total elapsed time: 00h 44m 56s\n"
     ]
    }
   ],
   "source": [
    "tuner.search(x_train, y_train,epochs=100,validation_data=(x_test, y_test))"
   ]
  },
  {
   "cell_type": "code",
   "execution_count": 27,
   "metadata": {
    "colab": {
     "base_uri": "https://localhost:8080/"
    },
    "id": "2x1JCJ7IgRKR",
    "outputId": "2d26c320-e5ba-4ceb-ce2c-2380cc20aab1"
   },
   "outputs": [
    {
     "name": "stdout",
     "output_type": "stream",
     "text": [
      "Results summary\n",
      "Results in project\\Gas Turbine\n",
      "Showing 10 best trials\n",
      "Objective(name=\"val_mean_absolute_error\", direction=\"min\")\n",
      "\n",
      "Trial 4 summary\n",
      "Hyperparameters:\n",
      "num_layers: 19\n",
      "units_0: 64\n",
      "units_1: 64\n",
      "learning_rate: 0.0001\n",
      "units_2: 32\n",
      "units_3: 64\n",
      "units_4: 64\n",
      "units_5: 64\n",
      "units_6: 32\n",
      "units_7: 64\n",
      "units_8: 96\n",
      "units_9: 96\n",
      "units_10: 32\n",
      "units_11: 64\n",
      "units_12: 64\n",
      "units_13: 32\n",
      "units_14: 64\n",
      "units_15: 64\n",
      "units_16: 96\n",
      "units_17: 32\n",
      "units_18: 32\n",
      "Score: 0.024528410906593006\n",
      "\n",
      "Trial 3 summary\n",
      "Hyperparameters:\n",
      "num_layers: 14\n",
      "units_0: 64\n",
      "units_1: 64\n",
      "learning_rate: 0.001\n",
      "units_2: 96\n",
      "units_3: 96\n",
      "units_4: 64\n",
      "units_5: 96\n",
      "units_6: 96\n",
      "units_7: 96\n",
      "units_8: 32\n",
      "units_9: 64\n",
      "units_10: 96\n",
      "units_11: 32\n",
      "units_12: 96\n",
      "units_13: 96\n",
      "units_14: 32\n",
      "units_15: 96\n",
      "units_16: 96\n",
      "Score: 0.02474243814746539\n",
      "\n",
      "Trial 2 summary\n",
      "Hyperparameters:\n",
      "num_layers: 4\n",
      "units_0: 96\n",
      "units_1: 96\n",
      "learning_rate: 0.01\n",
      "units_2: 32\n",
      "units_3: 64\n",
      "units_4: 32\n",
      "units_5: 64\n",
      "units_6: 64\n",
      "units_7: 32\n",
      "units_8: 64\n",
      "units_9: 96\n",
      "units_10: 64\n",
      "units_11: 32\n",
      "units_12: 32\n",
      "units_13: 96\n",
      "units_14: 96\n",
      "units_15: 96\n",
      "units_16: 32\n",
      "Score: 0.026495837916930515\n",
      "\n",
      "Trial 0 summary\n",
      "Hyperparameters:\n",
      "num_layers: 7\n",
      "units_0: 64\n",
      "units_1: 64\n",
      "learning_rate: 0.01\n",
      "units_2: 32\n",
      "units_3: 32\n",
      "units_4: 32\n",
      "units_5: 32\n",
      "units_6: 32\n",
      "Score: 0.02704944647848606\n",
      "\n",
      "Trial 1 summary\n",
      "Hyperparameters:\n",
      "num_layers: 17\n",
      "units_0: 96\n",
      "units_1: 64\n",
      "learning_rate: 0.01\n",
      "units_2: 64\n",
      "units_3: 64\n",
      "units_4: 96\n",
      "units_5: 32\n",
      "units_6: 64\n",
      "units_7: 32\n",
      "units_8: 32\n",
      "units_9: 32\n",
      "units_10: 32\n",
      "units_11: 32\n",
      "units_12: 32\n",
      "units_13: 32\n",
      "units_14: 32\n",
      "units_15: 32\n",
      "units_16: 32\n",
      "Score: 0.02796516257027785\n"
     ]
    }
   ],
   "source": [
    "tuner.results_summary()"
   ]
  },
  {
   "cell_type": "code",
   "execution_count": 28,
   "metadata": {
    "colab": {
     "base_uri": "https://localhost:8080/"
    },
    "id": "sPR9Pvm1iaWl",
    "outputId": "7af8501b-0de6-476d-b07c-2017cc8799a8"
   },
   "outputs": [
    {
     "name": "stdout",
     "output_type": "stream",
     "text": [
      "Fitting 5 folds for each of 9 candidates, totalling 45 fits\n",
      "[CV 1/5; 1/9] START batch_size=10, epochs=50....................................\n",
      "[CV 1/5; 1/9] END .....batch_size=10, epochs=50;, score=0.998 total time=  25.0s\n",
      "[CV 2/5; 1/9] START batch_size=10, epochs=50....................................\n",
      "[CV 2/5; 1/9] END .....batch_size=10, epochs=50;, score=0.999 total time=  25.1s\n",
      "[CV 3/5; 1/9] START batch_size=10, epochs=50....................................\n",
      "[CV 3/5; 1/9] END .....batch_size=10, epochs=50;, score=0.998 total time=  24.8s\n",
      "[CV 4/5; 1/9] START batch_size=10, epochs=50....................................\n",
      "[CV 4/5; 1/9] END .....batch_size=10, epochs=50;, score=0.998 total time=  25.2s\n",
      "[CV 5/5; 1/9] START batch_size=10, epochs=50....................................\n",
      "[CV 5/5; 1/9] END .....batch_size=10, epochs=50;, score=0.998 total time=  25.3s\n",
      "[CV 1/5; 2/9] START batch_size=10, epochs=100...................................\n",
      "[CV 1/5; 2/9] END ....batch_size=10, epochs=100;, score=0.998 total time= 1.5min\n",
      "[CV 2/5; 2/9] START batch_size=10, epochs=100...................................\n",
      "[CV 2/5; 2/9] END ....batch_size=10, epochs=100;, score=0.998 total time= 1.0min\n",
      "[CV 3/5; 2/9] START batch_size=10, epochs=100...................................\n",
      "[CV 3/5; 2/9] END ....batch_size=10, epochs=100;, score=0.998 total time=  50.2s\n",
      "[CV 4/5; 2/9] START batch_size=10, epochs=100...................................\n",
      "[CV 4/5; 2/9] END ....batch_size=10, epochs=100;, score=0.998 total time=  50.1s\n",
      "[CV 5/5; 2/9] START batch_size=10, epochs=100...................................\n",
      "[CV 5/5; 2/9] END ....batch_size=10, epochs=100;, score=0.998 total time=  49.9s\n",
      "[CV 1/5; 3/9] START batch_size=10, epochs=150...................................\n",
      "[CV 1/5; 3/9] END ....batch_size=10, epochs=150;, score=0.998 total time= 1.2min\n",
      "[CV 2/5; 3/9] START batch_size=10, epochs=150...................................\n",
      "[CV 2/5; 3/9] END ....batch_size=10, epochs=150;, score=0.998 total time= 1.3min\n",
      "[CV 3/5; 3/9] START batch_size=10, epochs=150...................................\n",
      "[CV 3/5; 3/9] END ....batch_size=10, epochs=150;, score=0.998 total time= 1.2min\n",
      "[CV 4/5; 3/9] START batch_size=10, epochs=150...................................\n",
      "[CV 4/5; 3/9] END ....batch_size=10, epochs=150;, score=0.998 total time= 1.2min\n",
      "[CV 5/5; 3/9] START batch_size=10, epochs=150...................................\n",
      "[CV 5/5; 3/9] END ....batch_size=10, epochs=150;, score=0.999 total time= 1.2min\n",
      "[CV 1/5; 4/9] START batch_size=30, epochs=50....................................\n",
      "[CV 1/5; 4/9] END .....batch_size=30, epochs=50;, score=0.998 total time=  11.7s\n",
      "[CV 2/5; 4/9] START batch_size=30, epochs=50....................................\n",
      "[CV 2/5; 4/9] END .....batch_size=30, epochs=50;, score=0.998 total time=  12.4s\n",
      "[CV 3/5; 4/9] START batch_size=30, epochs=50....................................\n",
      "[CV 3/5; 4/9] END .....batch_size=30, epochs=50;, score=0.998 total time=   9.6s\n",
      "[CV 4/5; 4/9] START batch_size=30, epochs=50....................................\n",
      "[CV 4/5; 4/9] END .....batch_size=30, epochs=50;, score=0.998 total time=  10.0s\n",
      "[CV 5/5; 4/9] START batch_size=30, epochs=50....................................\n",
      "[CV 5/5; 4/9] END .....batch_size=30, epochs=50;, score=0.998 total time=   9.5s\n",
      "[CV 1/5; 5/9] START batch_size=30, epochs=100...................................\n",
      "[CV 1/5; 5/9] END ....batch_size=30, epochs=100;, score=0.998 total time=  17.9s\n",
      "[CV 2/5; 5/9] START batch_size=30, epochs=100...................................\n",
      "[CV 2/5; 5/9] END ....batch_size=30, epochs=100;, score=0.998 total time=  17.9s\n",
      "[CV 3/5; 5/9] START batch_size=30, epochs=100...................................\n",
      "[CV 3/5; 5/9] END ....batch_size=30, epochs=100;, score=0.998 total time=  18.1s\n",
      "[CV 4/5; 5/9] START batch_size=30, epochs=100...................................\n",
      "[CV 4/5; 5/9] END ....batch_size=30, epochs=100;, score=0.998 total time=  17.8s\n",
      "[CV 5/5; 5/9] START batch_size=30, epochs=100...................................\n",
      "[CV 5/5; 5/9] END ....batch_size=30, epochs=100;, score=0.998 total time=  17.6s\n",
      "[CV 1/5; 6/9] START batch_size=30, epochs=150...................................\n",
      "[CV 1/5; 6/9] END ....batch_size=30, epochs=150;, score=0.998 total time=  26.2s\n",
      "[CV 2/5; 6/9] START batch_size=30, epochs=150...................................\n",
      "[CV 2/5; 6/9] END ....batch_size=30, epochs=150;, score=0.999 total time=  26.8s\n",
      "[CV 3/5; 6/9] START batch_size=30, epochs=150...................................\n",
      "[CV 3/5; 6/9] END ....batch_size=30, epochs=150;, score=0.998 total time=  26.8s\n",
      "[CV 4/5; 6/9] START batch_size=30, epochs=150...................................\n",
      "[CV 4/5; 6/9] END ....batch_size=30, epochs=150;, score=0.999 total time=  26.8s\n",
      "[CV 5/5; 6/9] START batch_size=30, epochs=150...................................\n",
      "[CV 5/5; 6/9] END ....batch_size=30, epochs=150;, score=0.999 total time=  26.5s\n",
      "[CV 1/5; 7/9] START batch_size=50, epochs=50....................................\n",
      "[CV 1/5; 7/9] END .....batch_size=50, epochs=50;, score=0.998 total time=   6.1s\n",
      "[CV 2/5; 7/9] START batch_size=50, epochs=50....................................\n",
      "[CV 2/5; 7/9] END .....batch_size=50, epochs=50;, score=0.998 total time=   6.2s\n",
      "[CV 3/5; 7/9] START batch_size=50, epochs=50....................................\n",
      "[CV 3/5; 7/9] END .....batch_size=50, epochs=50;, score=0.999 total time=   6.1s\n",
      "[CV 4/5; 7/9] START batch_size=50, epochs=50....................................\n",
      "[CV 4/5; 7/9] END .....batch_size=50, epochs=50;, score=0.998 total time=   6.2s\n",
      "[CV 5/5; 7/9] START batch_size=50, epochs=50....................................\n",
      "[CV 5/5; 7/9] END .....batch_size=50, epochs=50;, score=0.998 total time=   6.1s\n",
      "[CV 1/5; 8/9] START batch_size=50, epochs=100...................................\n",
      "[CV 1/5; 8/9] END ....batch_size=50, epochs=100;, score=0.999 total time=  11.5s\n",
      "[CV 2/5; 8/9] START batch_size=50, epochs=100...................................\n",
      "[CV 2/5; 8/9] END ....batch_size=50, epochs=100;, score=0.998 total time=  11.5s\n",
      "[CV 3/5; 8/9] START batch_size=50, epochs=100...................................\n",
      "[CV 3/5; 8/9] END ....batch_size=50, epochs=100;, score=0.998 total time=  11.3s\n",
      "[CV 4/5; 8/9] START batch_size=50, epochs=100...................................\n",
      "[CV 4/5; 8/9] END ....batch_size=50, epochs=100;, score=0.998 total time=  11.4s\n",
      "[CV 5/5; 8/9] START batch_size=50, epochs=100...................................\n",
      "[CV 5/5; 8/9] END ....batch_size=50, epochs=100;, score=0.999 total time=  11.5s\n",
      "[CV 1/5; 9/9] START batch_size=50, epochs=150...................................\n",
      "[CV 1/5; 9/9] END ....batch_size=50, epochs=150;, score=0.998 total time=  17.0s\n",
      "[CV 2/5; 9/9] START batch_size=50, epochs=150...................................\n",
      "[CV 2/5; 9/9] END ....batch_size=50, epochs=150;, score=0.999 total time=  17.0s\n",
      "[CV 3/5; 9/9] START batch_size=50, epochs=150...................................\n",
      "[CV 3/5; 9/9] END ....batch_size=50, epochs=150;, score=0.998 total time=  16.7s\n",
      "[CV 4/5; 9/9] START batch_size=50, epochs=150...................................\n",
      "[CV 4/5; 9/9] END ....batch_size=50, epochs=150;, score=0.998 total time=  16.7s\n",
      "[CV 5/5; 9/9] START batch_size=50, epochs=150...................................\n",
      "[CV 5/5; 9/9] END ....batch_size=50, epochs=150;, score=0.998 total time=  16.8s\n"
     ]
    }
   ],
   "source": [
    "# Hyperparameter Tuning: Optimal Batch_size, Number of Epochs\n",
    "\n",
    "def create_model():\n",
    "    model1 = Sequential()\n",
    "    model1.add(Dense(32,input_dim=7,activation='relu'))\n",
    "    model1.add(Dense(64,activation='relu'))\n",
    "    model1.add(Dense(32,activation=\"relu\"))\n",
    "    model1.add(Dense(units=1,activation=\"linear\"))\n",
    "\n",
    "    adam=Adam(learning_rate=0.001)\n",
    "    model1.compile(loss='mean_absolute_error',optimizer = adam,metrics=[\"mean_absolute_error\"])\n",
    "    return model1\n",
    "\n",
    "model1 =KerasRegressor(build_fn=create_model,verbose=0)\n",
    "batch_size=[10,30,50]\n",
    "epochs=[50,100,150]\n",
    "param_grid=dict(batch_size=batch_size,epochs=epochs)\n",
    "grid = GridSearchCV(estimator=model1,param_grid=param_grid,cv=KFold(),verbose=10)\n",
    "\n",
    "grid_result = grid.fit(x_test,y_test)"
   ]
  },
  {
   "cell_type": "code",
   "execution_count": 29,
   "metadata": {
    "colab": {
     "base_uri": "https://localhost:8080/"
    },
    "id": "Q-diRwp1gRHm",
    "outputId": "57121656-69bb-4030-aea0-a9f9144e0369"
   },
   "outputs": [
    {
     "name": "stdout",
     "output_type": "stream",
     "text": [
      "Best 0.9984733306256102, using {'batch_size': 30, 'epochs': 150}\n",
      "0.9983230231881576,0.00015353719886773665 with {'batch_size': 10, 'epochs': 50}\n",
      "0.9982352647379177,9.387101389455128e-05 with {'batch_size': 10, 'epochs': 100}\n",
      "0.9984283787962571,0.00012919721383109075 with {'batch_size': 10, 'epochs': 150}\n",
      "0.9983243627939787,0.00010561409745549963 with {'batch_size': 30, 'epochs': 50}\n",
      "0.9980690141380892,0.00028354209803145287 with {'batch_size': 30, 'epochs': 100}\n",
      "0.9984733306256102,0.00016545784478331775 with {'batch_size': 30, 'epochs': 150}\n",
      "0.9982785355238157,0.0003136848612584611 with {'batch_size': 50, 'epochs': 50}\n",
      "0.9984209359731704,0.00010401903209374676 with {'batch_size': 50, 'epochs': 100}\n",
      "0.9983650599394416,0.00014005317112001395 with {'batch_size': 50, 'epochs': 150}\n"
     ]
    }
   ],
   "source": [
    "print('Best {}, using {}'.format(grid_result.best_score_,grid_result.best_params_))\n",
    "means = grid_result.cv_results_[\"mean_test_score\"]\n",
    "stds = grid_result.cv_results_[\"std_test_score\"]\n",
    "params = grid_result.cv_results_[\"params\"]\n",
    "for mean,stdev,param in zip(means,stds,params):\n",
    "    print(\"{},{} with {}\".format(mean,stdev,param))"
   ]
  },
  {
   "cell_type": "code",
   "execution_count": 30,
   "metadata": {
    "colab": {
     "base_uri": "https://localhost:8080/"
    },
    "id": "NyzlmTOzicOG",
    "outputId": "f37980d9-3189-4a98-ee93-3a69ac180924"
   },
   "outputs": [
    {
     "name": "stdout",
     "output_type": "stream",
     "text": [
      "Fitting 5 folds for each of 3 candidates, totalling 15 fits\n",
      "[CV 1/5; 1/3] START dropout_rate=0.0............................................\n",
      "[CV 1/5; 1/3] END .............dropout_rate=0.0;, score=0.999 total time=  26.2s\n",
      "[CV 2/5; 1/3] START dropout_rate=0.0............................................\n",
      "[CV 2/5; 1/3] END .............dropout_rate=0.0;, score=0.999 total time=  26.8s\n",
      "[CV 3/5; 1/3] START dropout_rate=0.0............................................\n",
      "[CV 3/5; 1/3] END .............dropout_rate=0.0;, score=0.998 total time=  26.6s\n",
      "[CV 4/5; 1/3] START dropout_rate=0.0............................................\n",
      "[CV 4/5; 1/3] END .............dropout_rate=0.0;, score=0.998 total time=  26.7s\n",
      "[CV 5/5; 1/3] START dropout_rate=0.0............................................\n",
      "[CV 5/5; 1/3] END .............dropout_rate=0.0;, score=0.998 total time=  26.3s\n",
      "[CV 1/5; 2/3] START dropout_rate=0.2............................................\n",
      "[CV 1/5; 2/3] END .............dropout_rate=0.2;, score=0.998 total time=  26.8s\n",
      "[CV 2/5; 2/3] START dropout_rate=0.2............................................\n",
      "[CV 2/5; 2/3] END .............dropout_rate=0.2;, score=0.998 total time=  26.1s\n",
      "[CV 3/5; 2/3] START dropout_rate=0.2............................................\n",
      "[CV 3/5; 2/3] END .............dropout_rate=0.2;, score=0.998 total time=  26.7s\n",
      "[CV 4/5; 2/3] START dropout_rate=0.2............................................\n",
      "[CV 4/5; 2/3] END .............dropout_rate=0.2;, score=0.998 total time=  26.6s\n",
      "[CV 5/5; 2/3] START dropout_rate=0.2............................................\n",
      "[CV 5/5; 2/3] END .............dropout_rate=0.2;, score=0.999 total time=  26.5s\n",
      "[CV 1/5; 3/3] START dropout_rate=0.4............................................\n",
      "[CV 1/5; 3/3] END .............dropout_rate=0.4;, score=0.999 total time=  26.9s\n",
      "[CV 2/5; 3/3] START dropout_rate=0.4............................................\n",
      "[CV 2/5; 3/3] END .............dropout_rate=0.4;, score=0.998 total time=  26.6s\n",
      "[CV 3/5; 3/3] START dropout_rate=0.4............................................\n",
      "[CV 3/5; 3/3] END .............dropout_rate=0.4;, score=0.998 total time=  26.9s\n",
      "[CV 4/5; 3/3] START dropout_rate=0.4............................................\n",
      "[CV 4/5; 3/3] END .............dropout_rate=0.4;, score=0.998 total time=  26.1s\n",
      "[CV 5/5; 3/3] START dropout_rate=0.4............................................\n",
      "[CV 5/5; 3/3] END .............dropout_rate=0.4;, score=0.998 total time=  26.2s\n"
     ]
    }
   ],
   "source": [
    "# Hyperparameter Tuning: Optimal Droupout rate\n",
    "\n",
    "def create_model(dropout_rate):\n",
    "    model2 = Sequential()\n",
    "    model2.add(Dense(32,input_dim=7,activation='relu'))\n",
    "    model2.add(Dense(64,activation='relu'))\n",
    "    model2.add(Dense(32,activation=\"relu\"))\n",
    "\n",
    "    model2.add(Dense(units=1,activation=\"linear\"))\n",
    "\n",
    "    adam=Adam(learning_rate=0.001)\n",
    "    model2.compile(loss='mean_absolute_error',optimizer = adam,metrics=[\"mean_absolute_error\"])\n",
    "    return model2\n",
    "dropout_rate=[0.0,0.2,0.4]\n",
    "model2=KerasRegressor(build_fn=create_model,batch_size=30,epochs=150,verbose=0,dropout_rate=dropout_rate)\n",
    "\n",
    "param_grid=dict(dropout_rate=dropout_rate)\n",
    "grid2 = GridSearchCV(estimator=model2,param_grid=param_grid,cv=KFold(),verbose=10)\n",
    "\n",
    "grid_result2 = grid2.fit(x_test,y_test)"
   ]
  },
  {
   "cell_type": "code",
   "execution_count": 31,
   "metadata": {
    "colab": {
     "base_uri": "https://localhost:8080/"
    },
    "id": "mc6TmmnGicLX",
    "outputId": "934fab10-595a-4cfb-e4ae-ead91c209b98"
   },
   "outputs": [
    {
     "name": "stdout",
     "output_type": "stream",
     "text": [
      "Best 0.9984332037713554, using {'dropout_rate': 0.2}\n",
      "0.9984099637585352,0.00012341347544971308 with {'dropout_rate': 0.0}\n",
      "0.9984332037713554,0.0001722261751501394 with {'dropout_rate': 0.2}\n",
      "0.9983978342442048,0.00010329502088788285 with {'dropout_rate': 0.4}\n"
     ]
    }
   ],
   "source": [
    "print('Best {}, using {}'.format(grid_result2.best_score_,grid_result2.best_params_))\n",
    "means = grid_result2.cv_results_[\"mean_test_score\"]\n",
    "stds = grid_result2.cv_results_[\"std_test_score\"]\n",
    "params = grid_result2.cv_results_[\"params\"]\n",
    "for mean,stdev,param in zip(means,stds,params):\n",
    "    print(\"{},{} with {}\".format(mean,stdev,param))"
   ]
  },
  {
   "cell_type": "code",
   "execution_count": 32,
   "metadata": {
    "colab": {
     "base_uri": "https://localhost:8080/"
    },
    "id": "C3jlHCA0icIv",
    "outputId": "11736dd7-5c7e-4e16-adaa-5d3512761f10"
   },
   "outputs": [
    {
     "name": "stdout",
     "output_type": "stream",
     "text": [
      "Fitting 5 folds for each of 6 candidates, totalling 30 fits\n",
      "[CV 1/5; 1/6] START activation_function=softmax, init=normal....................\n",
      "[CV 1/5; 1/6] END activation_function=softmax, init=normal;, score=0.960 total time=  30.4s\n",
      "[CV 2/5; 1/6] START activation_function=softmax, init=normal....................\n",
      "[CV 2/5; 1/6] END activation_function=softmax, init=normal;, score=0.961 total time=  30.2s\n",
      "[CV 3/5; 1/6] START activation_function=softmax, init=normal....................\n",
      "[CV 3/5; 1/6] END activation_function=softmax, init=normal;, score=0.969 total time=  29.6s\n",
      "[CV 4/5; 1/6] START activation_function=softmax, init=normal....................\n",
      "[CV 4/5; 1/6] END activation_function=softmax, init=normal;, score=0.950 total time=  29.9s\n",
      "[CV 5/5; 1/6] START activation_function=softmax, init=normal....................\n",
      "[CV 5/5; 1/6] END activation_function=softmax, init=normal;, score=0.937 total time=  30.1s\n",
      "[CV 1/5; 2/6] START activation_function=softmax, init=uniform...................\n",
      "[CV 1/5; 2/6] END activation_function=softmax, init=uniform;, score=0.959 total time=  30.6s\n",
      "[CV 2/5; 2/6] START activation_function=softmax, init=uniform...................\n",
      "[CV 2/5; 2/6] END activation_function=softmax, init=uniform;, score=0.984 total time=  30.8s\n",
      "[CV 3/5; 2/6] START activation_function=softmax, init=uniform...................\n",
      "[CV 3/5; 2/6] END activation_function=softmax, init=uniform;, score=0.947 total time=  30.2s\n",
      "[CV 4/5; 2/6] START activation_function=softmax, init=uniform...................\n",
      "[CV 4/5; 2/6] END activation_function=softmax, init=uniform;, score=0.951 total time=  30.3s\n",
      "[CV 5/5; 2/6] START activation_function=softmax, init=uniform...................\n",
      "[CV 5/5; 2/6] END activation_function=softmax, init=uniform;, score=0.959 total time=  29.7s\n",
      "[CV 1/5; 3/6] START activation_function=tanh, init=normal.......................\n",
      "[CV 1/5; 3/6] END activation_function=tanh, init=normal;, score=0.958 total time=  29.5s\n",
      "[CV 2/5; 3/6] START activation_function=tanh, init=normal.......................\n",
      "[CV 2/5; 3/6] END activation_function=tanh, init=normal;, score=0.954 total time=  29.8s\n",
      "[CV 3/5; 3/6] START activation_function=tanh, init=normal.......................\n",
      "[CV 3/5; 3/6] END activation_function=tanh, init=normal;, score=0.960 total time=  29.9s\n",
      "[CV 4/5; 3/6] START activation_function=tanh, init=normal.......................\n",
      "[CV 4/5; 3/6] END activation_function=tanh, init=normal;, score=0.931 total time=  30.0s\n",
      "[CV 5/5; 3/6] START activation_function=tanh, init=normal.......................\n",
      "[CV 5/5; 3/6] END activation_function=tanh, init=normal;, score=0.907 total time=  30.1s\n",
      "[CV 1/5; 4/6] START activation_function=tanh, init=uniform......................\n",
      "[CV 1/5; 4/6] END activation_function=tanh, init=uniform;, score=0.942 total time=  30.3s\n",
      "[CV 2/5; 4/6] START activation_function=tanh, init=uniform......................\n",
      "[CV 2/5; 4/6] END activation_function=tanh, init=uniform;, score=0.965 total time=  30.1s\n",
      "[CV 3/5; 4/6] START activation_function=tanh, init=uniform......................\n",
      "[CV 3/5; 4/6] END activation_function=tanh, init=uniform;, score=0.954 total time=  29.8s\n",
      "[CV 4/5; 4/6] START activation_function=tanh, init=uniform......................\n",
      "[CV 4/5; 4/6] END activation_function=tanh, init=uniform;, score=0.945 total time=  29.9s\n",
      "[CV 5/5; 4/6] START activation_function=tanh, init=uniform......................\n",
      "[CV 5/5; 4/6] END activation_function=tanh, init=uniform;, score=0.971 total time=  29.9s\n",
      "[CV 1/5; 5/6] START activation_function=relu, init=normal.......................\n",
      "[CV 1/5; 5/6] END activation_function=relu, init=normal;, score=0.964 total time=  30.1s\n",
      "[CV 2/5; 5/6] START activation_function=relu, init=normal.......................\n",
      "[CV 2/5; 5/6] END activation_function=relu, init=normal;, score=0.969 total time=  30.5s\n",
      "[CV 3/5; 5/6] START activation_function=relu, init=normal.......................\n",
      "[CV 3/5; 5/6] END activation_function=relu, init=normal;, score=0.957 total time=  30.0s\n",
      "[CV 4/5; 5/6] START activation_function=relu, init=normal.......................\n",
      "[CV 4/5; 5/6] END activation_function=relu, init=normal;, score=0.967 total time=  30.2s\n",
      "[CV 5/5; 5/6] START activation_function=relu, init=normal.......................\n",
      "[CV 5/5; 5/6] END activation_function=relu, init=normal;, score=0.973 total time=  30.1s\n",
      "[CV 1/5; 6/6] START activation_function=relu, init=uniform......................\n",
      "[CV 1/5; 6/6] END activation_function=relu, init=uniform;, score=0.944 total time=  29.6s\n",
      "[CV 2/5; 6/6] START activation_function=relu, init=uniform......................\n",
      "[CV 2/5; 6/6] END activation_function=relu, init=uniform;, score=0.959 total time=  30.2s\n",
      "[CV 3/5; 6/6] START activation_function=relu, init=uniform......................\n",
      "[CV 3/5; 6/6] END activation_function=relu, init=uniform;, score=0.945 total time=  29.8s\n",
      "[CV 4/5; 6/6] START activation_function=relu, init=uniform......................\n",
      "[CV 4/5; 6/6] END activation_function=relu, init=uniform;, score=0.940 total time=  29.9s\n",
      "[CV 5/5; 6/6] START activation_function=relu, init=uniform......................\n",
      "[CV 5/5; 6/6] END activation_function=relu, init=uniform;, score=0.944 total time=  30.3s\n"
     ]
    }
   ],
   "source": [
    "# Hyperparameter Tuning: Optimal Activation Function and Kernel Initializer\n",
    "\n",
    "def create_model(activation_function,init):\n",
    "    model3 = Sequential()\n",
    "    model3.add(Dense(32,input_dim=7,activation='relu'))\n",
    "    model3.add(Dropout(0.2))\n",
    "    model3.add(Dense(64,activation='relu'))\n",
    "    model3.add(Dropout(0.2))\n",
    "    model3.add(Dense(32,activation=\"relu\"))\n",
    "    model3.add(Dropout(0.2))\n",
    "    model3.add(Dense(units=1,activation=\"linear\"))\n",
    "\n",
    "    adam=Adam(learning_rate=0.001)\n",
    "    model3.compile(loss='mean_absolute_error',optimizer = adam,metrics=[\"mean_absolute_error\"])\n",
    "    return model3\n",
    "activation_function=['softmax','tanh','relu']\n",
    "init=['normal','uniform']\n",
    "model3=KerasRegressor(build_fn=create_model,batch_size=30,epochs=150,verbose=0,activation_function=activation_function, init=init)\n",
    "\n",
    "param_grid=dict(activation_function=activation_function,init=init)\n",
    "grid3 = GridSearchCV(estimator=model3,param_grid=param_grid,cv=KFold(),verbose=10)\n",
    "\n",
    "grid_result3 = grid3.fit(x_test,y_test)"
   ]
  },
  {
   "cell_type": "code",
   "execution_count": 33,
   "metadata": {
    "colab": {
     "base_uri": "https://localhost:8080/"
    },
    "id": "YL8lTd7QicGA",
    "outputId": "447190f3-be21-4326-d4e5-1da892fee04b"
   },
   "outputs": [
    {
     "name": "stdout",
     "output_type": "stream",
     "text": [
      "Best 0.9660148671477696, using {'activation_function': 'relu', 'init': 'normal'}\n",
      "0.9554026428566706,0.010998817651067474 with {'activation_function': 'softmax', 'init': 'normal'}\n",
      "0.9600374849483488,0.012773177296895156 with {'activation_function': 'softmax', 'init': 'uniform'}\n",
      "0.9419591493194271,0.020463323720585312 with {'activation_function': 'tanh', 'init': 'normal'}\n",
      "0.9553610861262672,0.011286193060142941 with {'activation_function': 'tanh', 'init': 'uniform'}\n",
      "0.9660148671477696,0.005437072395450556 with {'activation_function': 'relu', 'init': 'normal'}\n",
      "0.9463504726697675,0.006592717376639572 with {'activation_function': 'relu', 'init': 'uniform'}\n"
     ]
    }
   ],
   "source": [
    "print('Best {}, using {}'.format(grid_result3.best_score_,grid_result3.best_params_))\n",
    "means = grid_result3.cv_results_[\"mean_test_score\"]\n",
    "stds = grid_result3.cv_results_[\"std_test_score\"]\n",
    "params = grid_result3.cv_results_[\"params\"]\n",
    "for mean,stdev,param in zip(means,stds,params):\n",
    "    print(\"{},{} with {}\".format(mean,stdev,param))"
   ]
  },
  {
   "cell_type": "code",
   "execution_count": 34,
   "metadata": {
    "colab": {
     "base_uri": "https://localhost:8080/",
     "height": 423
    },
    "id": "OPssuHjLicCy",
    "outputId": "f1d57403-880f-4486-c9ff-963597275387"
   },
   "outputs": [
    {
     "data": {
      "text/html": [
       "<div>\n",
       "<style scoped>\n",
       "    .dataframe tbody tr th:only-of-type {\n",
       "        vertical-align: middle;\n",
       "    }\n",
       "\n",
       "    .dataframe tbody tr th {\n",
       "        vertical-align: top;\n",
       "    }\n",
       "\n",
       "    .dataframe thead th {\n",
       "        text-align: right;\n",
       "    }\n",
       "</style>\n",
       "<table border=\"1\" class=\"dataframe\">\n",
       "  <thead>\n",
       "    <tr style=\"text-align: right;\">\n",
       "      <th></th>\n",
       "      <th>CDP</th>\n",
       "      <th>GTEP</th>\n",
       "      <th>TIT</th>\n",
       "      <th>TAT</th>\n",
       "      <th>AFDP</th>\n",
       "      <th>CO</th>\n",
       "      <th>AT</th>\n",
       "      <th>TEY</th>\n",
       "    </tr>\n",
       "  </thead>\n",
       "  <tbody>\n",
       "    <tr>\n",
       "      <th>0</th>\n",
       "      <td>10.605</td>\n",
       "      <td>19.663</td>\n",
       "      <td>1059.2</td>\n",
       "      <td>550.00</td>\n",
       "      <td>3.5000</td>\n",
       "      <td>3.1547</td>\n",
       "      <td>6.8594</td>\n",
       "      <td>114.70</td>\n",
       "    </tr>\n",
       "    <tr>\n",
       "      <th>1</th>\n",
       "      <td>10.598</td>\n",
       "      <td>19.728</td>\n",
       "      <td>1059.3</td>\n",
       "      <td>550.00</td>\n",
       "      <td>3.4998</td>\n",
       "      <td>3.2363</td>\n",
       "      <td>6.7850</td>\n",
       "      <td>114.72</td>\n",
       "    </tr>\n",
       "    <tr>\n",
       "      <th>2</th>\n",
       "      <td>10.601</td>\n",
       "      <td>19.779</td>\n",
       "      <td>1059.4</td>\n",
       "      <td>549.87</td>\n",
       "      <td>3.4824</td>\n",
       "      <td>3.2012</td>\n",
       "      <td>6.8977</td>\n",
       "      <td>114.71</td>\n",
       "    </tr>\n",
       "    <tr>\n",
       "      <th>3</th>\n",
       "      <td>10.606</td>\n",
       "      <td>19.792</td>\n",
       "      <td>1059.6</td>\n",
       "      <td>549.99</td>\n",
       "      <td>3.4805</td>\n",
       "      <td>3.1923</td>\n",
       "      <td>7.0569</td>\n",
       "      <td>114.72</td>\n",
       "    </tr>\n",
       "    <tr>\n",
       "      <th>4</th>\n",
       "      <td>10.612</td>\n",
       "      <td>19.765</td>\n",
       "      <td>1059.7</td>\n",
       "      <td>549.98</td>\n",
       "      <td>3.4976</td>\n",
       "      <td>3.2484</td>\n",
       "      <td>7.3978</td>\n",
       "      <td>114.72</td>\n",
       "    </tr>\n",
       "    <tr>\n",
       "      <th>...</th>\n",
       "      <td>...</td>\n",
       "      <td>...</td>\n",
       "      <td>...</td>\n",
       "      <td>...</td>\n",
       "      <td>...</td>\n",
       "      <td>...</td>\n",
       "      <td>...</td>\n",
       "      <td>...</td>\n",
       "    </tr>\n",
       "    <tr>\n",
       "      <th>15034</th>\n",
       "      <td>10.400</td>\n",
       "      <td>19.164</td>\n",
       "      <td>1049.7</td>\n",
       "      <td>546.21</td>\n",
       "      <td>3.5421</td>\n",
       "      <td>4.5186</td>\n",
       "      <td>9.0301</td>\n",
       "      <td>111.61</td>\n",
       "    </tr>\n",
       "    <tr>\n",
       "      <th>15035</th>\n",
       "      <td>10.433</td>\n",
       "      <td>19.414</td>\n",
       "      <td>1046.3</td>\n",
       "      <td>543.22</td>\n",
       "      <td>3.5059</td>\n",
       "      <td>4.8470</td>\n",
       "      <td>7.8879</td>\n",
       "      <td>111.78</td>\n",
       "    </tr>\n",
       "    <tr>\n",
       "      <th>15036</th>\n",
       "      <td>10.483</td>\n",
       "      <td>19.530</td>\n",
       "      <td>1037.7</td>\n",
       "      <td>537.32</td>\n",
       "      <td>3.4770</td>\n",
       "      <td>7.9632</td>\n",
       "      <td>7.2647</td>\n",
       "      <td>110.19</td>\n",
       "    </tr>\n",
       "    <tr>\n",
       "      <th>15037</th>\n",
       "      <td>10.533</td>\n",
       "      <td>19.377</td>\n",
       "      <td>1043.2</td>\n",
       "      <td>541.24</td>\n",
       "      <td>3.4486</td>\n",
       "      <td>6.2494</td>\n",
       "      <td>7.0060</td>\n",
       "      <td>110.74</td>\n",
       "    </tr>\n",
       "    <tr>\n",
       "      <th>15038</th>\n",
       "      <td>10.583</td>\n",
       "      <td>19.306</td>\n",
       "      <td>1049.9</td>\n",
       "      <td>545.85</td>\n",
       "      <td>3.4275</td>\n",
       "      <td>4.9816</td>\n",
       "      <td>6.9279</td>\n",
       "      <td>111.58</td>\n",
       "    </tr>\n",
       "  </tbody>\n",
       "</table>\n",
       "<p>15039 rows × 8 columns</p>\n",
       "</div>"
      ],
      "text/plain": [
       "          CDP    GTEP     TIT     TAT    AFDP      CO      AT     TEY\n",
       "0      10.605  19.663  1059.2  550.00  3.5000  3.1547  6.8594  114.70\n",
       "1      10.598  19.728  1059.3  550.00  3.4998  3.2363  6.7850  114.72\n",
       "2      10.601  19.779  1059.4  549.87  3.4824  3.2012  6.8977  114.71\n",
       "3      10.606  19.792  1059.6  549.99  3.4805  3.1923  7.0569  114.72\n",
       "4      10.612  19.765  1059.7  549.98  3.4976  3.2484  7.3978  114.72\n",
       "...       ...     ...     ...     ...     ...     ...     ...     ...\n",
       "15034  10.400  19.164  1049.7  546.21  3.5421  4.5186  9.0301  111.61\n",
       "15035  10.433  19.414  1046.3  543.22  3.5059  4.8470  7.8879  111.78\n",
       "15036  10.483  19.530  1037.7  537.32  3.4770  7.9632  7.2647  110.19\n",
       "15037  10.533  19.377  1043.2  541.24  3.4486  6.2494  7.0060  110.74\n",
       "15038  10.583  19.306  1049.9  545.85  3.4275  4.9816  6.9279  111.58\n",
       "\n",
       "[15039 rows x 8 columns]"
      ]
     },
     "execution_count": 34,
     "metadata": {},
     "output_type": "execute_result"
    }
   ],
   "source": [
    "# Standardizing only predictor variable - after train test split\n",
    "\n",
    "model_data"
   ]
  },
  {
   "cell_type": "code",
   "execution_count": 35,
   "metadata": {
    "colab": {
     "base_uri": "https://localhost:8080/"
    },
    "id": "rNhmRtECib_e",
    "outputId": "6ea7c920-e0c3-4821-88c7-58a45815b901"
   },
   "outputs": [
    {
     "name": "stdout",
     "output_type": "stream",
     "text": [
      "(12031, 7)\n",
      "(3008, 7)\n",
      "(12031, 1)\n",
      "(3008, 1)\n"
     ]
    }
   ],
   "source": [
    "#assigning predictor variables to x and response variable to y\n",
    "x = model_data.drop('TEY', axis=1)\n",
    "y = model_data[[\"TEY\"]]\n",
    "\n",
    "x_train, x_test, y_train, y_test = train_test_split(x,y, test_size = 0.20, random_state=42)\n",
    "\n",
    "scaler_train = StandardScaler()\n",
    "scaler_test = StandardScaler()\n",
    "\n",
    "x_train_scaled = scaler_train.fit_transform(x_train) # scaling train data -- predictor\n",
    "x_test_scaled  = scaler_test.fit_transform(x_test) # scaling test data -- predictor\n",
    "\n",
    "print(x_train_scaled.shape)\n",
    "print(x_test_scaled.shape)\n",
    "print(y_train.shape)\n",
    "print(y_test.shape)"
   ]
  },
  {
   "cell_type": "code",
   "execution_count": 36,
   "metadata": {
    "colab": {
     "base_uri": "https://localhost:8080/",
     "height": 1000
    },
    "id": "MJiJXjH5ib7v",
    "outputId": "f60d4121-b8db-49a8-d830-df385c893b54"
   },
   "outputs": [
    {
     "name": "stdout",
     "output_type": "stream",
     "text": [
      "Epoch 1/100\n",
      "281/281 [==============================] - 1s 3ms/step - loss: 17178.8438 - mae: 130.0831 - mse: 17178.8438 - val_loss: 16083.6279 - val_mae: 125.8397 - val_mse: 16083.6279\n",
      "Epoch 2/100\n",
      "281/281 [==============================] - 1s 2ms/step - loss: 15343.3633 - mae: 122.8372 - mse: 15343.3633 - val_loss: 14549.2891 - val_mae: 119.5880 - val_mse: 14549.2891\n",
      "Epoch 3/100\n",
      "281/281 [==============================] - 1s 2ms/step - loss: 13901.0234 - mae: 116.8144 - mse: 13901.0234 - val_loss: 13185.2002 - val_mae: 113.7419 - val_mse: 13185.2002\n",
      "Epoch 4/100\n",
      "281/281 [==============================] - 1s 2ms/step - loss: 12594.2451 - mae: 111.0820 - mse: 12594.2451 - val_loss: 11935.2480 - val_mae: 108.1077 - val_mse: 11935.2480\n",
      "Epoch 5/100\n",
      "281/281 [==============================] - 1s 2ms/step - loss: 11390.2275 - mae: 105.5274 - mse: 11390.2275 - val_loss: 10779.2607 - val_mae: 102.6221 - val_mse: 10779.2607\n",
      "Epoch 6/100\n",
      "281/281 [==============================] - 1s 2ms/step - loss: 10275.4502 - mae: 100.1049 - mse: 10275.4502 - val_loss: 9707.9609 - val_mae: 97.2625 - val_mse: 9707.9609\n",
      "Epoch 7/100\n",
      "281/281 [==============================] - 1s 2ms/step - loss: 9241.6426 - mae: 94.8066 - mse: 9241.6426 - val_loss: 8715.0039 - val_mae: 92.0165 - val_mse: 8715.0039\n",
      "Epoch 8/100\n",
      "281/281 [==============================] - 1s 2ms/step - loss: 8282.7295 - mae: 89.6086 - mse: 8282.7295 - val_loss: 7793.8301 - val_mae: 86.8669 - val_mse: 7793.8301\n",
      "Epoch 9/100\n",
      "281/281 [==============================] - 1s 2ms/step - loss: 7394.4360 - mae: 84.5038 - mse: 7394.4360 - val_loss: 6941.1177 - val_mae: 81.8117 - val_mse: 6941.1177\n",
      "Epoch 10/100\n",
      "281/281 [==============================] - 1s 2ms/step - loss: 6572.9702 - mae: 79.4925 - mse: 6572.9702 - val_loss: 6153.4604 - val_mae: 76.8472 - val_mse: 6153.4604\n",
      "Epoch 11/100\n",
      "281/281 [==============================] - 1s 2ms/step - loss: 5815.0811 - mae: 74.5722 - mse: 5815.0811 - val_loss: 5428.2251 - val_mae: 71.9740 - val_mse: 5428.2251\n",
      "Epoch 12/100\n",
      "281/281 [==============================] - 1s 2ms/step - loss: 5117.7036 - mae: 69.7421 - mse: 5117.7036 - val_loss: 4761.7910 - val_mae: 67.1850 - val_mse: 4761.7910\n",
      "Epoch 13/100\n",
      "281/281 [==============================] - 1s 2ms/step - loss: 4478.3892 - mae: 64.9988 - mse: 4478.3892 - val_loss: 4152.1592 - val_mae: 62.4835 - val_mse: 4152.1592\n",
      "Epoch 14/100\n",
      "281/281 [==============================] - 1s 2ms/step - loss: 3894.9658 - mae: 60.3404 - mse: 3894.9661 - val_loss: 3597.7407 - val_mae: 57.8772 - val_mse: 3597.7407\n",
      "Epoch 15/100\n",
      "281/281 [==============================] - 1s 2ms/step - loss: 3365.1084 - mae: 55.7821 - mse: 3365.1084 - val_loss: 3095.4067 - val_mae: 53.3614 - val_mse: 3095.4067\n",
      "Epoch 16/100\n",
      "281/281 [==============================] - 1s 2ms/step - loss: 2886.7427 - mae: 51.3103 - mse: 2886.7427 - val_loss: 2643.7361 - val_mae: 48.9466 - val_mse: 2643.7361\n",
      "Epoch 17/100\n",
      "281/281 [==============================] - 1s 2ms/step - loss: 2457.8906 - mae: 46.9475 - mse: 2457.8906 - val_loss: 2240.4243 - val_mae: 44.6369 - val_mse: 2240.4243\n",
      "Epoch 18/100\n",
      "281/281 [==============================] - 1s 2ms/step - loss: 2076.3193 - mae: 42.6956 - mse: 2076.3193 - val_loss: 1883.1564 - val_mae: 40.4375 - val_mse: 1883.1564\n",
      "Epoch 19/100\n",
      "281/281 [==============================] - 1s 2ms/step - loss: 1740.0333 - mae: 38.5587 - mse: 1740.0333 - val_loss: 1570.3027 - val_mae: 36.3639 - val_mse: 1570.3027\n",
      "Epoch 20/100\n",
      "281/281 [==============================] - 1s 2ms/step - loss: 1446.7810 - mae: 34.5548 - mse: 1446.7810 - val_loss: 1299.3384 - val_mae: 32.4251 - val_mse: 1299.3384\n",
      "Epoch 21/100\n",
      "281/281 [==============================] - 1s 2ms/step - loss: 1194.1727 - mae: 30.6976 - mse: 1194.1727 - val_loss: 1067.3549 - val_mae: 28.6708 - val_mse: 1067.3549\n",
      "Epoch 22/100\n",
      "281/281 [==============================] - 1s 2ms/step - loss: 980.0504 - mae: 27.0533 - mse: 980.0504 - val_loss: 872.7864 - val_mae: 25.1842 - val_mse: 872.7864\n",
      "Epoch 23/100\n",
      "281/281 [==============================] - 1s 2ms/step - loss: 801.4001 - mae: 23.8253 - mse: 801.4001 - val_loss: 712.0532 - val_mae: 22.3839 - val_mse: 712.0532\n",
      "Epoch 24/100\n",
      "281/281 [==============================] - 1s 2ms/step - loss: 655.3485 - mae: 21.4744 - mse: 655.3485 - val_loss: 582.3927 - val_mae: 20.3665 - val_mse: 582.3927\n",
      "Epoch 25/100\n",
      "281/281 [==============================] - 1s 2ms/step - loss: 538.8984 - mae: 19.5397 - mse: 538.8984 - val_loss: 480.7405 - val_mae: 18.5832 - val_mse: 480.7405\n",
      "Epoch 26/100\n",
      "281/281 [==============================] - 1s 2ms/step - loss: 448.6108 - mae: 17.8389 - mse: 448.6108 - val_loss: 403.4005 - val_mae: 16.9908 - val_mse: 403.4005\n",
      "Epoch 27/100\n",
      "281/281 [==============================] - 1s 2ms/step - loss: 380.8823 - mae: 16.3459 - mse: 380.8823 - val_loss: 346.6312 - val_mae: 15.6000 - val_mse: 346.6312\n",
      "Epoch 28/100\n",
      "281/281 [==============================] - 1s 2ms/step - loss: 332.2091 - mae: 15.0680 - mse: 332.2091 - val_loss: 307.1107 - val_mae: 14.4175 - val_mse: 307.1107\n",
      "Epoch 29/100\n",
      "281/281 [==============================] - 1s 2ms/step - loss: 298.9955 - mae: 13.9877 - mse: 298.9955 - val_loss: 280.9814 - val_mae: 13.4260 - val_mse: 280.9814\n",
      "Epoch 30/100\n",
      "281/281 [==============================] - 1s 2ms/step - loss: 277.6412 - mae: 13.1019 - mse: 277.6412 - val_loss: 264.9874 - val_mae: 12.6218 - val_mse: 264.9875\n",
      "Epoch 31/100\n",
      "281/281 [==============================] - 1s 2ms/step - loss: 264.8101 - mae: 12.4123 - mse: 264.8101 - val_loss: 255.8203 - val_mae: 11.9842 - val_mse: 255.8203\n",
      "Epoch 32/100\n",
      "281/281 [==============================] - 1s 2ms/step - loss: 257.6982 - mae: 11.8678 - mse: 257.6982 - val_loss: 251.1764 - val_mae: 11.5135 - val_mse: 251.1764\n",
      "Epoch 33/100\n",
      "281/281 [==============================] - 1s 2ms/step - loss: 254.1840 - mae: 11.4662 - mse: 254.1840 - val_loss: 249.0560 - val_mae: 11.2111 - val_mse: 249.0560\n",
      "Epoch 34/100\n",
      "281/281 [==============================] - 1s 2ms/step - loss: 252.6460 - mae: 11.2640 - mse: 252.6460 - val_loss: 248.2708 - val_mae: 11.0639 - val_mse: 248.2708\n",
      "Epoch 35/100\n",
      "281/281 [==============================] - 1s 2ms/step - loss: 252.0213 - mae: 11.1853 - mse: 252.0213 - val_loss: 248.0260 - val_mae: 11.0389 - val_mse: 248.0260\n",
      "Epoch 36/100\n",
      "281/281 [==============================] - 1s 2ms/step - loss: 251.8227 - mae: 11.2010 - mse: 251.8227 - val_loss: 247.9734 - val_mae: 11.0591 - val_mse: 247.9734\n",
      "Epoch 37/100\n",
      "281/281 [==============================] - 1s 2ms/step - loss: 251.7575 - mae: 11.2301 - mse: 251.7575 - val_loss: 247.9691 - val_mae: 11.0712 - val_mse: 247.9690\n",
      "Epoch 38/100\n",
      "281/281 [==============================] - 1s 2ms/step - loss: 251.7415 - mae: 11.2309 - mse: 251.7415 - val_loss: 247.9788 - val_mae: 11.0872 - val_mse: 247.9788\n",
      "Epoch 39/100\n",
      "281/281 [==============================] - 1s 2ms/step - loss: 251.7318 - mae: 11.2460 - mse: 251.7318 - val_loss: 247.9727 - val_mae: 11.0815 - val_mse: 247.9727\n",
      "Epoch 40/100\n",
      "281/281 [==============================] - 1s 2ms/step - loss: 181.8819 - mae: 8.5240 - mse: 181.8819 - val_loss: 101.1708 - val_mae: 5.3866 - val_mse: 101.1708\n",
      "Epoch 41/100\n",
      "281/281 [==============================] - 1s 2ms/step - loss: 84.3914 - mae: 4.7963 - mse: 84.3914 - val_loss: 62.4493 - val_mae: 3.9513 - val_mse: 62.4493\n",
      "Epoch 42/100\n",
      "281/281 [==============================] - 1s 2ms/step - loss: 52.9386 - mae: 3.6325 - mse: 52.9386 - val_loss: 39.6295 - val_mae: 3.0592 - val_mse: 39.6295\n",
      "Epoch 43/100\n",
      "281/281 [==============================] - 1s 2ms/step - loss: 34.1887 - mae: 2.8407 - mse: 34.1887 - val_loss: 25.9292 - val_mae: 2.4283 - val_mse: 25.9292\n",
      "Epoch 44/100\n",
      "281/281 [==============================] - 1s 2ms/step - loss: 22.5408 - mae: 2.2873 - mse: 22.5408 - val_loss: 17.1293 - val_mae: 1.9652 - val_mse: 17.1293\n",
      "Epoch 45/100\n",
      "281/281 [==============================] - 1s 2ms/step - loss: 15.1490 - mae: 1.8782 - mse: 15.1490 - val_loss: 11.5604 - val_mae: 1.6135 - val_mse: 11.5604\n",
      "Epoch 46/100\n",
      "281/281 [==============================] - 1s 2ms/step - loss: 10.3239 - mae: 1.5558 - mse: 10.3239 - val_loss: 7.9932 - val_mae: 1.3837 - val_mse: 7.9932\n",
      "Epoch 47/100\n"
     ]
    },
    {
     "name": "stdout",
     "output_type": "stream",
     "text": [
      "281/281 [==============================] - 1s 2ms/step - loss: 7.1825 - mae: 1.3246 - mse: 7.1825 - val_loss: 5.6451 - val_mae: 1.1978 - val_mse: 5.6451\n",
      "Epoch 48/100\n",
      "281/281 [==============================] - 1s 2ms/step - loss: 5.0977 - mae: 1.1374 - mse: 5.0977 - val_loss: 3.9910 - val_mae: 1.0219 - val_mse: 3.9910\n",
      "Epoch 49/100\n",
      "281/281 [==============================] - 1s 2ms/step - loss: 3.7022 - mae: 0.9868 - mse: 3.7022 - val_loss: 2.9554 - val_mae: 0.8942 - val_mse: 2.9554\n",
      "Epoch 50/100\n",
      "281/281 [==============================] - 1s 2ms/step - loss: 2.7924 - mae: 0.8906 - mse: 2.7924 - val_loss: 2.2753 - val_mae: 0.8128 - val_mse: 2.2753\n",
      "Epoch 51/100\n",
      "281/281 [==============================] - 1s 2ms/step - loss: 2.1719 - mae: 0.8095 - mse: 2.1719 - val_loss: 1.8028 - val_mae: 0.7472 - val_mse: 1.8028\n",
      "Epoch 52/100\n",
      "281/281 [==============================] - 1s 2ms/step - loss: 1.7600 - mae: 0.7563 - mse: 1.7600 - val_loss: 1.4671 - val_mae: 0.6971 - val_mse: 1.4671\n",
      "Epoch 53/100\n",
      "281/281 [==============================] - 1s 2ms/step - loss: 1.4504 - mae: 0.7095 - mse: 1.4504 - val_loss: 1.3137 - val_mae: 0.6783 - val_mse: 1.3137\n",
      "Epoch 54/100\n",
      "281/281 [==============================] - 1s 2ms/step - loss: 1.2402 - mae: 0.6730 - mse: 1.2402 - val_loss: 1.1418 - val_mae: 0.6706 - val_mse: 1.1418\n",
      "Epoch 55/100\n",
      "281/281 [==============================] - 1s 2ms/step - loss: 1.0767 - mae: 0.6445 - mse: 1.0767 - val_loss: 0.9852 - val_mae: 0.6339 - val_mse: 0.9852\n",
      "Epoch 56/100\n",
      "281/281 [==============================] - 1s 2ms/step - loss: 0.9690 - mae: 0.6251 - mse: 0.9690 - val_loss: 0.8445 - val_mae: 0.5933 - val_mse: 0.8445\n",
      "Epoch 57/100\n",
      "281/281 [==============================] - 1s 2ms/step - loss: 0.8666 - mae: 0.6037 - mse: 0.8666 - val_loss: 0.8587 - val_mae: 0.6471 - val_mse: 0.8587\n",
      "Epoch 58/100\n",
      "281/281 [==============================] - 1s 2ms/step - loss: 0.8082 - mae: 0.5921 - mse: 0.8082 - val_loss: 0.7684 - val_mae: 0.5800 - val_mse: 0.7684\n",
      "Epoch 59/100\n",
      "281/281 [==============================] - 1s 2ms/step - loss: 0.7467 - mae: 0.5767 - mse: 0.7467 - val_loss: 0.7584 - val_mae: 0.6085 - val_mse: 0.7584\n",
      "Epoch 60/100\n",
      "281/281 [==============================] - 1s 2ms/step - loss: 0.7024 - mae: 0.5679 - mse: 0.7024 - val_loss: 0.6315 - val_mae: 0.5358 - val_mse: 0.6315\n",
      "Epoch 61/100\n",
      "281/281 [==============================] - 1s 2ms/step - loss: 0.6609 - mae: 0.5594 - mse: 0.6609 - val_loss: 0.6607 - val_mae: 0.5613 - val_mse: 0.6607\n",
      "Epoch 62/100\n",
      "281/281 [==============================] - 1s 2ms/step - loss: 0.6243 - mae: 0.5428 - mse: 0.6243 - val_loss: 0.5995 - val_mae: 0.5328 - val_mse: 0.5995\n",
      "Epoch 63/100\n",
      "281/281 [==============================] - 1s 2ms/step - loss: 0.6092 - mae: 0.5430 - mse: 0.6092 - val_loss: 0.5350 - val_mae: 0.5006 - val_mse: 0.5350\n",
      "Epoch 64/100\n",
      "281/281 [==============================] - 1s 2ms/step - loss: 0.5825 - mae: 0.5313 - mse: 0.5825 - val_loss: 0.5251 - val_mae: 0.5024 - val_mse: 0.5251\n",
      "Epoch 65/100\n",
      "281/281 [==============================] - 1s 2ms/step - loss: 0.5609 - mae: 0.5224 - mse: 0.5609 - val_loss: 0.5839 - val_mae: 0.5429 - val_mse: 0.5839\n",
      "Epoch 66/100\n",
      "281/281 [==============================] - 1s 2ms/step - loss: 0.5444 - mae: 0.5153 - mse: 0.5444 - val_loss: 0.5112 - val_mae: 0.5009 - val_mse: 0.5112\n",
      "Epoch 67/100\n",
      "281/281 [==============================] - 1s 2ms/step - loss: 0.5320 - mae: 0.5150 - mse: 0.5320 - val_loss: 0.4860 - val_mae: 0.4929 - val_mse: 0.4860\n",
      "Epoch 68/100\n",
      "281/281 [==============================] - 1s 2ms/step - loss: 0.5194 - mae: 0.5118 - mse: 0.5194 - val_loss: 0.5584 - val_mae: 0.5489 - val_mse: 0.5584\n",
      "Epoch 69/100\n",
      "281/281 [==============================] - 1s 2ms/step - loss: 0.5054 - mae: 0.5047 - mse: 0.5054 - val_loss: 0.4592 - val_mae: 0.4702 - val_mse: 0.4592\n",
      "Epoch 70/100\n",
      "281/281 [==============================] - 1s 2ms/step - loss: 0.5141 - mae: 0.5063 - mse: 0.5141 - val_loss: 0.4935 - val_mae: 0.4927 - val_mse: 0.4935\n",
      "Epoch 71/100\n",
      "281/281 [==============================] - 1s 2ms/step - loss: 0.4982 - mae: 0.5000 - mse: 0.4982 - val_loss: 0.4666 - val_mae: 0.4773 - val_mse: 0.4666\n",
      "Epoch 72/100\n",
      "281/281 [==============================] - 1s 2ms/step - loss: 0.4792 - mae: 0.4909 - mse: 0.4792 - val_loss: 0.4471 - val_mae: 0.4705 - val_mse: 0.4471\n",
      "Epoch 73/100\n",
      "281/281 [==============================] - 1s 2ms/step - loss: 0.4854 - mae: 0.4955 - mse: 0.4854 - val_loss: 0.5029 - val_mae: 0.5044 - val_mse: 0.5029\n",
      "Epoch 74/100\n",
      "281/281 [==============================] - 1s 2ms/step - loss: 0.4854 - mae: 0.4969 - mse: 0.4854 - val_loss: 0.4651 - val_mae: 0.4938 - val_mse: 0.4651\n",
      "Epoch 75/100\n",
      "281/281 [==============================] - 1s 2ms/step - loss: 0.4667 - mae: 0.4883 - mse: 0.4667 - val_loss: 0.4251 - val_mae: 0.4629 - val_mse: 0.4251\n",
      "Epoch 76/100\n",
      "281/281 [==============================] - 1s 2ms/step - loss: 0.4658 - mae: 0.4843 - mse: 0.4658 - val_loss: 0.4486 - val_mae: 0.4804 - val_mse: 0.4486\n",
      "Epoch 77/100\n",
      "281/281 [==============================] - 1s 2ms/step - loss: 0.4542 - mae: 0.4802 - mse: 0.4542 - val_loss: 0.4300 - val_mae: 0.4639 - val_mse: 0.4300\n",
      "Epoch 78/100\n",
      "281/281 [==============================] - 1s 2ms/step - loss: 0.4436 - mae: 0.4699 - mse: 0.4436 - val_loss: 0.5131 - val_mae: 0.5136 - val_mse: 0.5131\n",
      "Epoch 79/100\n",
      "281/281 [==============================] - 1s 2ms/step - loss: 0.4796 - mae: 0.4944 - mse: 0.4796 - val_loss: 0.4424 - val_mae: 0.4767 - val_mse: 0.4424\n",
      "Epoch 80/100\n",
      "281/281 [==============================] - 1s 2ms/step - loss: 0.4535 - mae: 0.4796 - mse: 0.4535 - val_loss: 0.4349 - val_mae: 0.4748 - val_mse: 0.4349\n",
      "Epoch 81/100\n",
      "281/281 [==============================] - 1s 2ms/step - loss: 0.4532 - mae: 0.4816 - mse: 0.4532 - val_loss: 0.5917 - val_mae: 0.5593 - val_mse: 0.5917\n",
      "Epoch 82/100\n",
      "281/281 [==============================] - 1s 2ms/step - loss: 0.4546 - mae: 0.4785 - mse: 0.4546 - val_loss: 0.4529 - val_mae: 0.4871 - val_mse: 0.4529\n",
      "Epoch 83/100\n",
      "281/281 [==============================] - 1s 2ms/step - loss: 0.4507 - mae: 0.4768 - mse: 0.4507 - val_loss: 0.4065 - val_mae: 0.4554 - val_mse: 0.4065\n",
      "Epoch 84/100\n",
      "281/281 [==============================] - 1s 2ms/step - loss: 0.4434 - mae: 0.4713 - mse: 0.4434 - val_loss: 0.4591 - val_mae: 0.4809 - val_mse: 0.4591\n",
      "Epoch 85/100\n",
      "281/281 [==============================] - 1s 2ms/step - loss: 0.4403 - mae: 0.4702 - mse: 0.4403 - val_loss: 0.4360 - val_mae: 0.4598 - val_mse: 0.4360\n",
      "Epoch 86/100\n",
      "281/281 [==============================] - 1s 2ms/step - loss: 0.4374 - mae: 0.4683 - mse: 0.4374 - val_loss: 0.4548 - val_mae: 0.4912 - val_mse: 0.4548\n",
      "Epoch 87/100\n",
      "281/281 [==============================] - 1s 2ms/step - loss: 0.4560 - mae: 0.4840 - mse: 0.4560 - val_loss: 0.4200 - val_mae: 0.4583 - val_mse: 0.4200\n",
      "Epoch 88/100\n",
      "281/281 [==============================] - 1s 2ms/step - loss: 0.4380 - mae: 0.4691 - mse: 0.4380 - val_loss: 0.4371 - val_mae: 0.4621 - val_mse: 0.4371\n",
      "Epoch 89/100\n",
      "281/281 [==============================] - 1s 2ms/step - loss: 0.4303 - mae: 0.4665 - mse: 0.4303 - val_loss: 0.3916 - val_mae: 0.4444 - val_mse: 0.3916\n",
      "Epoch 90/100\n",
      "281/281 [==============================] - 1s 2ms/step - loss: 0.4307 - mae: 0.4657 - mse: 0.4307 - val_loss: 0.4434 - val_mae: 0.4756 - val_mse: 0.4434\n",
      "Epoch 91/100\n",
      "281/281 [==============================] - 1s 2ms/step - loss: 0.4302 - mae: 0.4660 - mse: 0.4302 - val_loss: 0.4004 - val_mae: 0.4518 - val_mse: 0.4004\n",
      "Epoch 92/100\n",
      "281/281 [==============================] - 1s 2ms/step - loss: 0.4216 - mae: 0.4599 - mse: 0.4216 - val_loss: 0.4617 - val_mae: 0.4981 - val_mse: 0.4617\n",
      "Epoch 93/100\n",
      "281/281 [==============================] - 1s 2ms/step - loss: 0.4363 - mae: 0.4692 - mse: 0.4363 - val_loss: 0.4128 - val_mae: 0.4599 - val_mse: 0.4128\n",
      "Epoch 94/100\n",
      "281/281 [==============================] - 1s 2ms/step - loss: 0.4417 - mae: 0.4750 - mse: 0.4417 - val_loss: 0.4123 - val_mae: 0.4557 - val_mse: 0.4123\n",
      "Epoch 95/100\n",
      "281/281 [==============================] - 1s 2ms/step - loss: 0.4281 - mae: 0.4623 - mse: 0.4281 - val_loss: 0.4392 - val_mae: 0.4861 - val_mse: 0.4392\n",
      "Epoch 96/100\n"
     ]
    },
    {
     "name": "stdout",
     "output_type": "stream",
     "text": [
      "281/281 [==============================] - 1s 2ms/step - loss: 0.4275 - mae: 0.4645 - mse: 0.4275 - val_loss: 0.4270 - val_mae: 0.4692 - val_mse: 0.4270\n",
      "Epoch 97/100\n",
      "281/281 [==============================] - 1s 2ms/step - loss: 0.4176 - mae: 0.4571 - mse: 0.4176 - val_loss: 0.4640 - val_mae: 0.4953 - val_mse: 0.4640\n",
      "Epoch 98/100\n",
      "281/281 [==============================] - 1s 2ms/step - loss: 0.4272 - mae: 0.4657 - mse: 0.4272 - val_loss: 0.4196 - val_mae: 0.4664 - val_mse: 0.4196\n",
      "Epoch 99/100\n",
      "281/281 [==============================] - 1s 2ms/step - loss: 0.4411 - mae: 0.4710 - mse: 0.4411 - val_loss: 0.4034 - val_mae: 0.4579 - val_mse: 0.4034\n",
      "Epoch 100/100\n",
      "281/281 [==============================] - 1s 2ms/step - loss: 0.4178 - mae: 0.4548 - mse: 0.4178 - val_loss: 0.4279 - val_mae: 0.4716 - val_mse: 0.4279\n",
      "94/94 [==============================] - 0s 1ms/step\n",
      "batch_size: 10 - epochs: 10 Accuracy: TEY    98.456142\n",
      "dtype: float64\n",
      "94/94 [==============================] - 0s 1ms/step\n",
      "batch_size: 10 - epochs: 50 Accuracy: TEY    99.682249\n",
      "dtype: float64\n",
      "94/94 [==============================] - 0s 1ms/step\n",
      "batch_size: 10 - epochs: 100 Accuracy: TEY    99.634325\n",
      "dtype: float64\n",
      "94/94 [==============================] - 0s 1ms/step\n",
      "batch_size: 15 - epochs: 10 Accuracy: TEY    89.840362\n",
      "dtype: float64\n",
      "94/94 [==============================] - 0s 1ms/step\n",
      "batch_size: 15 - epochs: 50 Accuracy: TEY    99.67163\n",
      "dtype: float64\n",
      "94/94 [==============================] - 0s 1ms/step\n",
      "batch_size: 15 - epochs: 100 Accuracy: TEY    99.672683\n",
      "dtype: float64\n",
      "94/94 [==============================] - 0s 2ms/step\n",
      "batch_size: 20 - epochs: 10 Accuracy: TEY    80.943151\n",
      "dtype: float64\n",
      "94/94 [==============================] - 0s 1ms/step\n",
      "batch_size: 20 - epochs: 50 Accuracy: TEY    99.646946\n",
      "dtype: float64\n",
      "94/94 [==============================] - 0s 1ms/step\n",
      "batch_size: 20 - epochs: 100 Accuracy: TEY    99.674378\n",
      "dtype: float64\n"
     ]
    },
    {
     "data": {
      "text/html": [
       "<div>\n",
       "<style scoped>\n",
       "    .dataframe tbody tr th:only-of-type {\n",
       "        vertical-align: middle;\n",
       "    }\n",
       "\n",
       "    .dataframe tbody tr th {\n",
       "        vertical-align: top;\n",
       "    }\n",
       "\n",
       "    .dataframe thead th {\n",
       "        text-align: right;\n",
       "    }\n",
       "</style>\n",
       "<table border=\"1\" class=\"dataframe\">\n",
       "  <thead>\n",
       "    <tr style=\"text-align: right;\">\n",
       "      <th></th>\n",
       "      <th>batchsize</th>\n",
       "      <th>epochs</th>\n",
       "      <th>Accuracy</th>\n",
       "    </tr>\n",
       "  </thead>\n",
       "  <tbody>\n",
       "    <tr>\n",
       "      <th>0</th>\n",
       "      <td>10</td>\n",
       "      <td>10</td>\n",
       "      <td>TEY    98.456142\n",
       "dtype: float64</td>\n",
       "    </tr>\n",
       "    <tr>\n",
       "      <th>0</th>\n",
       "      <td>10</td>\n",
       "      <td>50</td>\n",
       "      <td>TEY    99.682249\n",
       "dtype: float64</td>\n",
       "    </tr>\n",
       "    <tr>\n",
       "      <th>0</th>\n",
       "      <td>10</td>\n",
       "      <td>100</td>\n",
       "      <td>TEY    99.634325\n",
       "dtype: float64</td>\n",
       "    </tr>\n",
       "    <tr>\n",
       "      <th>0</th>\n",
       "      <td>15</td>\n",
       "      <td>10</td>\n",
       "      <td>TEY    89.840362\n",
       "dtype: float64</td>\n",
       "    </tr>\n",
       "    <tr>\n",
       "      <th>0</th>\n",
       "      <td>15</td>\n",
       "      <td>50</td>\n",
       "      <td>TEY    99.67163\n",
       "dtype: float64</td>\n",
       "    </tr>\n",
       "    <tr>\n",
       "      <th>0</th>\n",
       "      <td>15</td>\n",
       "      <td>100</td>\n",
       "      <td>TEY    99.672683\n",
       "dtype: float64</td>\n",
       "    </tr>\n",
       "    <tr>\n",
       "      <th>0</th>\n",
       "      <td>20</td>\n",
       "      <td>10</td>\n",
       "      <td>TEY    80.943151\n",
       "dtype: float64</td>\n",
       "    </tr>\n",
       "    <tr>\n",
       "      <th>0</th>\n",
       "      <td>20</td>\n",
       "      <td>50</td>\n",
       "      <td>TEY    99.646946\n",
       "dtype: float64</td>\n",
       "    </tr>\n",
       "    <tr>\n",
       "      <th>0</th>\n",
       "      <td>20</td>\n",
       "      <td>100</td>\n",
       "      <td>TEY    99.674378\n",
       "dtype: float64</td>\n",
       "    </tr>\n",
       "  </tbody>\n",
       "</table>\n",
       "</div>"
      ],
      "text/plain": [
       "   batchsize  epochs                         Accuracy\n",
       "0         10      10  TEY    98.456142\n",
       "dtype: float64\n",
       "0         10      50  TEY    99.682249\n",
       "dtype: float64\n",
       "0         10     100  TEY    99.634325\n",
       "dtype: float64\n",
       "0         15      10  TEY    89.840362\n",
       "dtype: float64\n",
       "0         15      50   TEY    99.67163\n",
       "dtype: float64\n",
       "0         15     100  TEY    99.672683\n",
       "dtype: float64\n",
       "0         20      10  TEY    80.943151\n",
       "dtype: float64\n",
       "0         20      50  TEY    99.646946\n",
       "dtype: float64\n",
       "0         20     100  TEY    99.674378\n",
       "dtype: float64"
      ]
     },
     "execution_count": 36,
     "metadata": {},
     "output_type": "execute_result"
    }
   ],
   "source": [
    "# since we have continuous ouput, AF is not required in the o/p layer\n",
    "model = Sequential()\n",
    "model.add( Dense( units = 50 , activation = 'relu' , kernel_initializer = 'normal', input_dim = 7)) # input layer\n",
    "model.add( Dense( units = 20 , activation = 'tanh' , kernel_initializer = 'normal' )) # hidden layer\n",
    "model.add( Dense( units = 1  , kernel_initializer = 'normal' )) # o/p layer\n",
    "\n",
    "model.compile(optimizer= \"adam\", loss=\"mse\", metrics= [\"mae\", \"mse\"])\n",
    "model.fit(x_train_scaled, y_train , batch_size=30, validation_split=0.3, epochs=100,  verbose=1)\n",
    "\n",
    "\n",
    "def toFindBestParams(x_train_scaled, y_train, x_test_scaled, y_test):\n",
    "\n",
    "    #defining list of hyperparameters\n",
    "    batch_size_list = [10 , 15 , 20]\n",
    "    epoch_list      = [10 , 50 , 100]\n",
    "\n",
    "    bestParamTable = pd.DataFrame()\n",
    "\n",
    "    for batch_trial in batch_size_list:\n",
    "        for epochs_trial in epoch_list:\n",
    "\n",
    "            # create ANN model\n",
    "            model = Sequential()\n",
    "            # Defining the first layer of the model\n",
    "            model.add(Dense(units=50, input_dim=x_train_scaled.shape[1], kernel_initializer='normal', activation='relu'))\n",
    "\n",
    "            # Defining the Second layer of the model\n",
    "            model.add(Dense(units=20, kernel_initializer='normal', activation='tanh'))\n",
    "\n",
    "            # The output neuron is a single fully connected node\n",
    "            # Since we will be predicting a single number\n",
    "            model.add(Dense(1, kernel_initializer='normal'))\n",
    "\n",
    "            # Compiling the model\n",
    "            model.compile(optimizer ='adam', loss = 'mean_squared_error')\n",
    "\n",
    "            # Fitting the ANN to the Training set\n",
    "            model.fit(x_train_scaled, y_train , batch_size=batch_trial, epochs=epochs_trial,  verbose=0)\n",
    "\n",
    "            MAPE = np.mean(100 * (np.abs(y_test-model.predict(x_test_scaled))/y_test))\n",
    "\n",
    "            bestParamTable=bestParamTable.append(pd.DataFrame(data=[[batch_trial, epochs_trial, 100-MAPE]],\n",
    "                                                        columns=['batchsize','epochs','Accuracy'] ))\n",
    "\n",
    "            # printing the results of the current iteration\n",
    "            print('batch_size:', batch_trial,'-', 'epochs:',epochs_trial, 'Accuracy:',100-MAPE)\n",
    "\n",
    "    return bestParamTable\n",
    "\n",
    "# Calling the function\n",
    "finalParamTable = toFindBestParams(x_train_scaled, y_train, x_test_scaled, y_test)\n",
    "finalParamTable"
   ]
  },
  {
   "cell_type": "code",
   "execution_count": 37,
   "metadata": {
    "colab": {
     "base_uri": "https://localhost:8080/",
     "height": 331
    },
    "id": "nl1MdMPVWigS",
    "outputId": "113e219c-bb2c-4ee4-deef-9fd2f66051d0"
   },
   "outputs": [
    {
     "data": {
      "text/html": [
       "<div>\n",
       "<style scoped>\n",
       "    .dataframe tbody tr th:only-of-type {\n",
       "        vertical-align: middle;\n",
       "    }\n",
       "\n",
       "    .dataframe tbody tr th {\n",
       "        vertical-align: top;\n",
       "    }\n",
       "\n",
       "    .dataframe thead th {\n",
       "        text-align: right;\n",
       "    }\n",
       "</style>\n",
       "<table border=\"1\" class=\"dataframe\">\n",
       "  <thead>\n",
       "    <tr style=\"text-align: right;\">\n",
       "      <th></th>\n",
       "      <th>batchsize</th>\n",
       "      <th>epochs</th>\n",
       "      <th>Accuracy</th>\n",
       "    </tr>\n",
       "  </thead>\n",
       "  <tbody>\n",
       "    <tr>\n",
       "      <th>0</th>\n",
       "      <td>10</td>\n",
       "      <td>10</td>\n",
       "      <td>TEY    98.456142\n",
       "dtype: float64</td>\n",
       "    </tr>\n",
       "    <tr>\n",
       "      <th>0</th>\n",
       "      <td>10</td>\n",
       "      <td>50</td>\n",
       "      <td>TEY    99.682249\n",
       "dtype: float64</td>\n",
       "    </tr>\n",
       "    <tr>\n",
       "      <th>0</th>\n",
       "      <td>10</td>\n",
       "      <td>100</td>\n",
       "      <td>TEY    99.634325\n",
       "dtype: float64</td>\n",
       "    </tr>\n",
       "    <tr>\n",
       "      <th>0</th>\n",
       "      <td>15</td>\n",
       "      <td>10</td>\n",
       "      <td>TEY    89.840362\n",
       "dtype: float64</td>\n",
       "    </tr>\n",
       "    <tr>\n",
       "      <th>0</th>\n",
       "      <td>15</td>\n",
       "      <td>50</td>\n",
       "      <td>TEY    99.67163\n",
       "dtype: float64</td>\n",
       "    </tr>\n",
       "    <tr>\n",
       "      <th>0</th>\n",
       "      <td>15</td>\n",
       "      <td>100</td>\n",
       "      <td>TEY    99.672683\n",
       "dtype: float64</td>\n",
       "    </tr>\n",
       "    <tr>\n",
       "      <th>0</th>\n",
       "      <td>20</td>\n",
       "      <td>10</td>\n",
       "      <td>TEY    80.943151\n",
       "dtype: float64</td>\n",
       "    </tr>\n",
       "    <tr>\n",
       "      <th>0</th>\n",
       "      <td>20</td>\n",
       "      <td>50</td>\n",
       "      <td>TEY    99.646946\n",
       "dtype: float64</td>\n",
       "    </tr>\n",
       "    <tr>\n",
       "      <th>0</th>\n",
       "      <td>20</td>\n",
       "      <td>100</td>\n",
       "      <td>TEY    99.674378\n",
       "dtype: float64</td>\n",
       "    </tr>\n",
       "  </tbody>\n",
       "</table>\n",
       "</div>"
      ],
      "text/plain": [
       "   batchsize  epochs                         Accuracy\n",
       "0         10      10  TEY    98.456142\n",
       "dtype: float64\n",
       "0         10      50  TEY    99.682249\n",
       "dtype: float64\n",
       "0         10     100  TEY    99.634325\n",
       "dtype: float64\n",
       "0         15      10  TEY    89.840362\n",
       "dtype: float64\n",
       "0         15      50   TEY    99.67163\n",
       "dtype: float64\n",
       "0         15     100  TEY    99.672683\n",
       "dtype: float64\n",
       "0         20      10  TEY    80.943151\n",
       "dtype: float64\n",
       "0         20      50  TEY    99.646946\n",
       "dtype: float64\n",
       "0         20     100  TEY    99.674378\n",
       "dtype: float64"
      ]
     },
     "execution_count": 37,
     "metadata": {},
     "output_type": "execute_result"
    }
   ],
   "source": [
    "finalParamTable"
   ]
  },
  {
   "cell_type": "code",
   "execution_count": 38,
   "metadata": {
    "colab": {
     "base_uri": "https://localhost:8080/"
    },
    "id": "9sa1WZQvib1W",
    "outputId": "6faa3950-1b34-455f-bddc-b859751e5f06"
   },
   "outputs": [
    {
     "data": {
      "text/plain": [
       "<keras.src.callbacks.History at 0x16b6773ff50>"
      ]
     },
     "execution_count": 38,
     "metadata": {},
     "output_type": "execute_result"
    }
   ],
   "source": [
    "# Training Model - using best params, we have accuracy = 99.66994, with batch size = 15, epochs = 100\n",
    "\n",
    "model.compile(optimizer ='adam', loss = 'mean_squared_error')\n",
    "# fitting the model to best params\n",
    "model.fit(x_train_scaled,y_train, batch_size=15 , epochs = 100, verbose=0)"
   ]
  },
  {
   "cell_type": "code",
   "execution_count": 39,
   "metadata": {
    "colab": {
     "base_uri": "https://localhost:8080/",
     "height": 399
    },
    "id": "gpUq8_Ngibvf",
    "outputId": "06605892-ccd9-450d-f95d-3e5047c04abc"
   },
   "outputs": [
    {
     "name": "stdout",
     "output_type": "stream",
     "text": [
      "94/94 [==============================] - 0s 1ms/step\n",
      "(3008, 9)\n"
     ]
    },
    {
     "data": {
      "text/html": [
       "<div>\n",
       "<style scoped>\n",
       "    .dataframe tbody tr th:only-of-type {\n",
       "        vertical-align: middle;\n",
       "    }\n",
       "\n",
       "    .dataframe tbody tr th {\n",
       "        vertical-align: top;\n",
       "    }\n",
       "\n",
       "    .dataframe thead th {\n",
       "        text-align: right;\n",
       "    }\n",
       "</style>\n",
       "<table border=\"1\" class=\"dataframe\">\n",
       "  <thead>\n",
       "    <tr style=\"text-align: right;\">\n",
       "      <th></th>\n",
       "      <th>CDP</th>\n",
       "      <th>GTEP</th>\n",
       "      <th>TIT</th>\n",
       "      <th>TAT</th>\n",
       "      <th>AFDP</th>\n",
       "      <th>CO</th>\n",
       "      <th>AT</th>\n",
       "      <th>Actual</th>\n",
       "      <th>Predicted</th>\n",
       "    </tr>\n",
       "  </thead>\n",
       "  <tbody>\n",
       "    <tr>\n",
       "      <th>13312</th>\n",
       "      <td>12.219</td>\n",
       "      <td>25.762</td>\n",
       "      <td>1092.5</td>\n",
       "      <td>550.25</td>\n",
       "      <td>4.0023</td>\n",
       "      <td>1.26430</td>\n",
       "      <td>24.0930</td>\n",
       "      <td>134.46</td>\n",
       "      <td>134.429138</td>\n",
       "    </tr>\n",
       "    <tr>\n",
       "      <th>12627</th>\n",
       "      <td>10.791</td>\n",
       "      <td>20.085</td>\n",
       "      <td>1059.6</td>\n",
       "      <td>549.94</td>\n",
       "      <td>3.2106</td>\n",
       "      <td>2.69370</td>\n",
       "      <td>20.4500</td>\n",
       "      <td>111.88</td>\n",
       "      <td>112.719009</td>\n",
       "    </tr>\n",
       "    <tr>\n",
       "      <th>6393</th>\n",
       "      <td>12.126</td>\n",
       "      <td>25.221</td>\n",
       "      <td>1089.9</td>\n",
       "      <td>549.62</td>\n",
       "      <td>4.5325</td>\n",
       "      <td>1.96250</td>\n",
       "      <td>20.2620</td>\n",
       "      <td>133.72</td>\n",
       "      <td>134.151428</td>\n",
       "    </tr>\n",
       "    <tr>\n",
       "      <th>4990</th>\n",
       "      <td>12.218</td>\n",
       "      <td>25.965</td>\n",
       "      <td>1092.9</td>\n",
       "      <td>549.96</td>\n",
       "      <td>4.4266</td>\n",
       "      <td>1.57120</td>\n",
       "      <td>26.8620</td>\n",
       "      <td>133.79</td>\n",
       "      <td>133.796478</td>\n",
       "    </tr>\n",
       "    <tr>\n",
       "      <th>12462</th>\n",
       "      <td>10.466</td>\n",
       "      <td>19.688</td>\n",
       "      <td>1056.9</td>\n",
       "      <td>550.01</td>\n",
       "      <td>3.1241</td>\n",
       "      <td>2.29960</td>\n",
       "      <td>19.4090</td>\n",
       "      <td>110.77</td>\n",
       "      <td>111.285049</td>\n",
       "    </tr>\n",
       "    <tr>\n",
       "      <th>7405</th>\n",
       "      <td>10.624</td>\n",
       "      <td>19.387</td>\n",
       "      <td>1058.9</td>\n",
       "      <td>550.17</td>\n",
       "      <td>3.3709</td>\n",
       "      <td>4.27640</td>\n",
       "      <td>2.2158</td>\n",
       "      <td>113.32</td>\n",
       "      <td>113.609146</td>\n",
       "    </tr>\n",
       "    <tr>\n",
       "      <th>10993</th>\n",
       "      <td>12.088</td>\n",
       "      <td>25.392</td>\n",
       "      <td>1089.7</td>\n",
       "      <td>550.11</td>\n",
       "      <td>3.7871</td>\n",
       "      <td>0.83578</td>\n",
       "      <td>23.8520</td>\n",
       "      <td>133.77</td>\n",
       "      <td>133.690842</td>\n",
       "    </tr>\n",
       "    <tr>\n",
       "      <th>9488</th>\n",
       "      <td>11.498</td>\n",
       "      <td>23.225</td>\n",
       "      <td>1079.4</td>\n",
       "      <td>549.60</td>\n",
       "      <td>4.2837</td>\n",
       "      <td>2.01980</td>\n",
       "      <td>12.3950</td>\n",
       "      <td>128.98</td>\n",
       "      <td>129.385971</td>\n",
       "    </tr>\n",
       "    <tr>\n",
       "      <th>14201</th>\n",
       "      <td>13.971</td>\n",
       "      <td>32.518</td>\n",
       "      <td>1100.1</td>\n",
       "      <td>528.98</td>\n",
       "      <td>5.1559</td>\n",
       "      <td>0.87760</td>\n",
       "      <td>12.3590</td>\n",
       "      <td>159.42</td>\n",
       "      <td>160.919373</td>\n",
       "    </tr>\n",
       "    <tr>\n",
       "      <th>9757</th>\n",
       "      <td>13.862</td>\n",
       "      <td>32.105</td>\n",
       "      <td>1100.0</td>\n",
       "      <td>530.69</td>\n",
       "      <td>5.9309</td>\n",
       "      <td>10.75000</td>\n",
       "      <td>8.6376</td>\n",
       "      <td>161.86</td>\n",
       "      <td>162.050079</td>\n",
       "    </tr>\n",
       "  </tbody>\n",
       "</table>\n",
       "</div>"
      ],
      "text/plain": [
       "          CDP    GTEP     TIT     TAT    AFDP        CO       AT  Actual  \\\n",
       "13312  12.219  25.762  1092.5  550.25  4.0023   1.26430  24.0930  134.46   \n",
       "12627  10.791  20.085  1059.6  549.94  3.2106   2.69370  20.4500  111.88   \n",
       "6393   12.126  25.221  1089.9  549.62  4.5325   1.96250  20.2620  133.72   \n",
       "4990   12.218  25.965  1092.9  549.96  4.4266   1.57120  26.8620  133.79   \n",
       "12462  10.466  19.688  1056.9  550.01  3.1241   2.29960  19.4090  110.77   \n",
       "7405   10.624  19.387  1058.9  550.17  3.3709   4.27640   2.2158  113.32   \n",
       "10993  12.088  25.392  1089.7  550.11  3.7871   0.83578  23.8520  133.77   \n",
       "9488   11.498  23.225  1079.4  549.60  4.2837   2.01980  12.3950  128.98   \n",
       "14201  13.971  32.518  1100.1  528.98  5.1559   0.87760  12.3590  159.42   \n",
       "9757   13.862  32.105  1100.0  530.69  5.9309  10.75000   8.6376  161.86   \n",
       "\n",
       "        Predicted  \n",
       "13312  134.429138  \n",
       "12627  112.719009  \n",
       "6393   134.151428  \n",
       "4990   133.796478  \n",
       "12462  111.285049  \n",
       "7405   113.609146  \n",
       "10993  133.690842  \n",
       "9488   129.385971  \n",
       "14201  160.919373  \n",
       "9757   162.050079  "
      ]
     },
     "execution_count": 39,
     "metadata": {},
     "output_type": "execute_result"
    }
   ],
   "source": [
    "# Predicting values from Model using same dataset\n",
    "\n",
    "# generating predictions for test data\n",
    "y_predict_test = model.predict(x_test_scaled)\n",
    "\n",
    "# creating table with test price & predicted price for test\n",
    "predictions_df = pd.DataFrame(x_test)\n",
    "predictions_df['Actual'] = y_test\n",
    "predictions_df['Predicted'] = y_predict_test\n",
    "print(predictions_df.shape)\n",
    "predictions_df.head(10)"
   ]
  },
  {
   "cell_type": "code",
   "execution_count": 40,
   "metadata": {
    "id": "F-XG7VVCibsN"
   },
   "outputs": [],
   "source": [
    "predictions_df.drop(['CDP','GTEP','TIT','TAT','AFDP','CO','AT'], axis =1 , inplace = True)"
   ]
  },
  {
   "cell_type": "code",
   "execution_count": 41,
   "metadata": {
    "colab": {
     "base_uri": "https://localhost:8080/",
     "height": 224
    },
    "id": "vX2BbamBj_zV",
    "outputId": "b978269a-e539-45f1-80ce-0622e4822aa8"
   },
   "outputs": [
    {
     "name": "stdout",
     "output_type": "stream",
     "text": [
      "The Accuracy for Test Data -- ANN model =  99.64918713607327\n"
     ]
    },
    {
     "data": {
      "text/html": [
       "<div>\n",
       "<style scoped>\n",
       "    .dataframe tbody tr th:only-of-type {\n",
       "        vertical-align: middle;\n",
       "    }\n",
       "\n",
       "    .dataframe tbody tr th {\n",
       "        vertical-align: top;\n",
       "    }\n",
       "\n",
       "    .dataframe thead th {\n",
       "        text-align: right;\n",
       "    }\n",
       "</style>\n",
       "<table border=\"1\" class=\"dataframe\">\n",
       "  <thead>\n",
       "    <tr style=\"text-align: right;\">\n",
       "      <th></th>\n",
       "      <th>Actual</th>\n",
       "      <th>Predicted</th>\n",
       "      <th>APE %</th>\n",
       "    </tr>\n",
       "  </thead>\n",
       "  <tbody>\n",
       "    <tr>\n",
       "      <th>13312</th>\n",
       "      <td>134.46</td>\n",
       "      <td>134.429138</td>\n",
       "      <td>0.022952</td>\n",
       "    </tr>\n",
       "    <tr>\n",
       "      <th>12627</th>\n",
       "      <td>111.88</td>\n",
       "      <td>112.719009</td>\n",
       "      <td>0.749919</td>\n",
       "    </tr>\n",
       "    <tr>\n",
       "      <th>6393</th>\n",
       "      <td>133.72</td>\n",
       "      <td>134.151428</td>\n",
       "      <td>0.322636</td>\n",
       "    </tr>\n",
       "    <tr>\n",
       "      <th>4990</th>\n",
       "      <td>133.79</td>\n",
       "      <td>133.796478</td>\n",
       "      <td>0.004842</td>\n",
       "    </tr>\n",
       "    <tr>\n",
       "      <th>12462</th>\n",
       "      <td>110.77</td>\n",
       "      <td>111.285049</td>\n",
       "      <td>0.464972</td>\n",
       "    </tr>\n",
       "  </tbody>\n",
       "</table>\n",
       "</div>"
      ],
      "text/plain": [
       "       Actual   Predicted     APE %\n",
       "13312  134.46  134.429138  0.022952\n",
       "12627  111.88  112.719009  0.749919\n",
       "6393   133.72  134.151428  0.322636\n",
       "4990   133.79  133.796478  0.004842\n",
       "12462  110.77  111.285049  0.464972"
      ]
     },
     "execution_count": 41,
     "metadata": {},
     "output_type": "execute_result"
    }
   ],
   "source": [
    "# Calculating Absolute Percent Error and Error\n",
    "\n",
    "\n",
    "# Computing the absolute percent error\n",
    "APE=100*(abs(predictions_df['Actual']-predictions_df['Predicted'])/predictions_df['Actual'])\n",
    "print('The Accuracy for Test Data -- ANN model = ', 100-np.mean(APE))\n",
    "\n",
    "# adding absolute percent error to table\n",
    "predictions_df['APE %']=APE\n",
    "predictions_df.head()"
   ]
  },
  {
   "cell_type": "code",
   "execution_count": 42,
   "metadata": {
    "colab": {
     "base_uri": "https://localhost:8080/",
     "height": 423
    },
    "id": "qjnIhH2Ej_wT",
    "outputId": "d6f33d79-7724-4481-969e-bee9c10b7606"
   },
   "outputs": [
    {
     "data": {
      "text/html": [
       "<div>\n",
       "<style scoped>\n",
       "    .dataframe tbody tr th:only-of-type {\n",
       "        vertical-align: middle;\n",
       "    }\n",
       "\n",
       "    .dataframe tbody tr th {\n",
       "        vertical-align: top;\n",
       "    }\n",
       "\n",
       "    .dataframe thead th {\n",
       "        text-align: right;\n",
       "    }\n",
       "</style>\n",
       "<table border=\"1\" class=\"dataframe\">\n",
       "  <thead>\n",
       "    <tr style=\"text-align: right;\">\n",
       "      <th></th>\n",
       "      <th>Actual</th>\n",
       "      <th>Predicted</th>\n",
       "      <th>APE %</th>\n",
       "      <th>Error</th>\n",
       "    </tr>\n",
       "  </thead>\n",
       "  <tbody>\n",
       "    <tr>\n",
       "      <th>0</th>\n",
       "      <td>134.46</td>\n",
       "      <td>134.429138</td>\n",
       "      <td>0.022952</td>\n",
       "      <td>0.000230</td>\n",
       "    </tr>\n",
       "    <tr>\n",
       "      <th>1</th>\n",
       "      <td>111.88</td>\n",
       "      <td>112.719009</td>\n",
       "      <td>0.749919</td>\n",
       "      <td>-0.007499</td>\n",
       "    </tr>\n",
       "    <tr>\n",
       "      <th>2</th>\n",
       "      <td>133.72</td>\n",
       "      <td>134.151428</td>\n",
       "      <td>0.322636</td>\n",
       "      <td>-0.003226</td>\n",
       "    </tr>\n",
       "    <tr>\n",
       "      <th>3</th>\n",
       "      <td>133.79</td>\n",
       "      <td>133.796478</td>\n",
       "      <td>0.004842</td>\n",
       "      <td>-0.000048</td>\n",
       "    </tr>\n",
       "    <tr>\n",
       "      <th>4</th>\n",
       "      <td>110.77</td>\n",
       "      <td>111.285049</td>\n",
       "      <td>0.464972</td>\n",
       "      <td>-0.004650</td>\n",
       "    </tr>\n",
       "    <tr>\n",
       "      <th>...</th>\n",
       "      <td>...</td>\n",
       "      <td>...</td>\n",
       "      <td>...</td>\n",
       "      <td>...</td>\n",
       "    </tr>\n",
       "    <tr>\n",
       "      <th>3003</th>\n",
       "      <td>119.25</td>\n",
       "      <td>119.806412</td>\n",
       "      <td>0.466593</td>\n",
       "      <td>-0.004666</td>\n",
       "    </tr>\n",
       "    <tr>\n",
       "      <th>3004</th>\n",
       "      <td>133.74</td>\n",
       "      <td>133.899445</td>\n",
       "      <td>0.119220</td>\n",
       "      <td>-0.001192</td>\n",
       "    </tr>\n",
       "    <tr>\n",
       "      <th>3005</th>\n",
       "      <td>146.31</td>\n",
       "      <td>146.749039</td>\n",
       "      <td>0.300074</td>\n",
       "      <td>-0.003001</td>\n",
       "    </tr>\n",
       "    <tr>\n",
       "      <th>3006</th>\n",
       "      <td>150.07</td>\n",
       "      <td>149.555328</td>\n",
       "      <td>0.342954</td>\n",
       "      <td>0.003430</td>\n",
       "    </tr>\n",
       "    <tr>\n",
       "      <th>3007</th>\n",
       "      <td>111.77</td>\n",
       "      <td>111.857849</td>\n",
       "      <td>0.078598</td>\n",
       "      <td>-0.000786</td>\n",
       "    </tr>\n",
       "  </tbody>\n",
       "</table>\n",
       "<p>3008 rows × 4 columns</p>\n",
       "</div>"
      ],
      "text/plain": [
       "      Actual   Predicted     APE %     Error\n",
       "0     134.46  134.429138  0.022952  0.000230\n",
       "1     111.88  112.719009  0.749919 -0.007499\n",
       "2     133.72  134.151428  0.322636 -0.003226\n",
       "3     133.79  133.796478  0.004842 -0.000048\n",
       "4     110.77  111.285049  0.464972 -0.004650\n",
       "...      ...         ...       ...       ...\n",
       "3003  119.25  119.806412  0.466593 -0.004666\n",
       "3004  133.74  133.899445  0.119220 -0.001192\n",
       "3005  146.31  146.749039  0.300074 -0.003001\n",
       "3006  150.07  149.555328  0.342954  0.003430\n",
       "3007  111.77  111.857849  0.078598 -0.000786\n",
       "\n",
       "[3008 rows x 4 columns]"
      ]
     },
     "execution_count": 42,
     "metadata": {},
     "output_type": "execute_result"
    }
   ],
   "source": [
    "predictions_df['Error'] = (predictions_df['Actual'] - predictions_df['Predicted'])/(predictions_df['Actual'])\n",
    "predictions_df.reset_index(drop = True)"
   ]
  },
  {
   "cell_type": "code",
   "execution_count": 43,
   "metadata": {
    "colab": {
     "base_uri": "https://localhost:8080/",
     "height": 736
    },
    "id": "vLfx739Nj_tj",
    "outputId": "aeb593d2-3364-4055-dfc5-54ffe6b5224a"
   },
   "outputs": [
    {
     "data": {
      "text/plain": [
       "<matplotlib.collections.PathCollection at 0x16b62dddd90>"
      ]
     },
     "execution_count": 43,
     "metadata": {},
     "output_type": "execute_result"
    },
    {
     "data": {
      "image/png": "[encoded data removed]",
      "text/plain": [
       "<Figure size 1200x800 with 1 Axes>"
      ]
     },
     "metadata": {},
     "output_type": "display_data"
    }
   ],
   "source": [
    "# Visualizing the Relationship between the Actual and Predicted ValuesModel Validation\n",
    "\n",
    "plt.figure(figsize=(12,8))\n",
    "plt.xlabel(\"Actual Values\")\n",
    "plt.ylabel(\"Predicted values\")\n",
    "plt.title(\"The Scatterplot of Relationship between Actual Values and Predictions\")\n",
    "plt.scatter(predictions_df['Actual'], predictions_df['Predicted'])"
   ]
  },
  {
   "cell_type": "code",
   "execution_count": 44,
   "metadata": {
    "colab": {
     "base_uri": "https://localhost:8080/"
    },
    "id": "eDvhmMxWj_nu",
    "outputId": "566f641f-0875-4caf-88bb-5bdbedd39c62"
   },
   "outputs": [
    {
     "name": "stdout",
     "output_type": "stream",
     "text": [
      "MAE: 0.4777640143861165\n",
      "MSE: 0.42020205821626905\n",
      "RMSE: 0.6482299423941084\n"
     ]
    }
   ],
   "source": [
    "# We will evaluate our model performance by calculating the residual sum of squares and the explained variance score\n",
    "\n",
    "from sklearn import metrics\n",
    "print(\"MAE:\",metrics.mean_absolute_error(y_test,y_predict_test))\n",
    "print (\"MSE:\",metrics.mean_squared_error(y_test,y_predict_test))\n",
    "print(\"RMSE:\",np.sqrt(metrics.mean_squared_error(y_test,y_predict_test)))"
   ]
  },
  {
   "cell_type": "code",
   "execution_count": 45,
   "metadata": {
    "colab": {
     "base_uri": "https://localhost:8080/"
    },
    "id": "l9qOS2LKTeN2",
    "outputId": "003cfb5a-3894-4243-c0c8-3f33cbc8fe98"
   },
   "outputs": [
    {
     "name": "stdout",
     "output_type": "stream",
     "text": [
      "94/94 [==============================] - 0s 1ms/step\n",
      "376/376 [==============================] - 0s 1ms/step\n",
      "R2_score (train):  0.9986434438132599\n",
      "R2_score (test):  0.9983218071817858\n"
     ]
    }
   ],
   "source": [
    "from sklearn.metrics import mean_squared_error, mean_absolute_error, r2_score\n",
    "\n",
    "y_predict_test = model.predict(x_test_scaled)\n",
    "y_predict_train = model.predict(x_train_scaled)\n",
    "print('R2_score (train): ',r2_score(y_train, y_predict_train))\n",
    "print('R2_score (test): ',r2_score(y_test, y_predict_test))"
   ]
  },
  {
   "cell_type": "code",
   "execution_count": 46,
   "metadata": {
    "colab": {
     "base_uri": "https://localhost:8080/"
    },
    "id": "XPzVu243TeK0",
    "outputId": "97e9e555-852f-4e19-d892-5a76e5f8bb49"
   },
   "outputs": [
    {
     "name": "stdout",
     "output_type": "stream",
     "text": [
      "This shows our model predict % 99.87 of the target correctly\n"
     ]
    }
   ],
   "source": [
    "#Evaluation of  the explained variance score (R^2)\n",
    "\n",
    "print('This shows our model predict % {} of the target correctly'.format(np.round(metrics.explained_variance_score(y_test,y_predict_test)*100,2)))"
   ]
  },
  {
   "cell_type": "code",
   "execution_count": 47,
   "metadata": {
    "colab": {
     "base_uri": "https://localhost:8080/",
     "height": 848
    },
    "id": "yWqFKzl_TeIE",
    "outputId": "8c896e68-7928-4d28-a474-770bcd6d152a"
   },
   "outputs": [
    {
     "data": {
      "text/plain": [
       "<Axes: ylabel='Density'>"
      ]
     },
     "execution_count": 47,
     "metadata": {},
     "output_type": "execute_result"
    },
    {
     "data": {
      "image/png": "[encoded data removed]",
      "text/plain": [
       "<Figure size 1200x1000 with 1 Axes>"
      ]
     },
     "metadata": {},
     "output_type": "display_data"
    }
   ],
   "source": [
    "# Residual Analysis\n",
    "\n",
    "# Test for Normality of Residuals (Q-Q Plot)\n",
    "\n",
    "#Now we will visualize the differences between our predictions and actual y test data\n",
    "\n",
    "plt.figure(figsize=(12,10))\n",
    "sns.distplot(y_test-y_predict_test,bins=50) #this figure also proves that our model fits very good\n",
    "#There is no huge differences between our predictions and actual y data"
   ]
  },
  {
   "cell_type": "code",
   "execution_count": 48,
   "metadata": {
    "colab": {
     "base_uri": "https://localhost:8080/",
     "height": 472
    },
    "id": "XY_2VLZjTeFU",
    "outputId": "fa4cd772-2280-4207-908e-852faf046b88"
   },
   "outputs": [
    {
     "data": {
      "image/png": "[encoded data removed]",
      "text/plain": [
       "<Figure size 640x480 with 1 Axes>"
      ]
     },
     "metadata": {},
     "output_type": "display_data"
    }
   ],
   "source": [
    "#Residuals values  = y - yhat\n",
    "\n",
    "import statsmodels.api as smf\n",
    "smf.qqplot(predictions_df['Error'], line = 'q')\n",
    "plt.title('Normal Q-Q plot of residuals')\n",
    "plt.show()"
   ]
  },
  {
   "cell_type": "code",
   "execution_count": null,
   "metadata": {
    "id": "ESxosxFXTeCF"
   },
   "outputs": [],
   "source": []
  }
 ],
 "metadata": {
  "colab": {
   "provenance": []
  },
  "kernelspec": {
   "display_name": "Python 3 (ipykernel)",
   "language": "python",
   "name": "python3"
  },
  "language_info": {
   "codemirror_mode": {
    "name": "ipython",
    "version": 3
   },
   "file_extension": ".py",
   "mimetype": "text/x-python",
   "name": "python",
   "nbconvert_exporter": "python",
   "pygments_lexer": "ipython3",
   "version": "3.11.3"
  }
 },
 "nbformat": 4,
 "nbformat_minor": 1
}
